{
 "cells": [
  {
   "cell_type": "code",
   "execution_count": 1,
   "metadata": {
    "hide_input": false,
    "init_cell": true
   },
   "outputs": [
    {
     "data": {
      "text/html": [
       "\n",
       "<script src=\"../lib/sigmajs/sigma.min.js\"></script>\n",
       "<script src=\"../lib/sigmajs/sigma.plugins.dragNodes.js\"></script>\n",
       "<script src=\"../lib/sigmajs/sigma.canvas.edges.labels.curvedArrow.js\"></script>\n",
       "<script src=\"../lib/sigmajs/sigma.canvas.edges.curvedArrow.js\"></script>\n",
       "<script src=\"../lib/sigmajs/sigma.canvas.edges.curve.js\"></script>\n",
       "<script src=\"../lib/sigmajs/sigma.canvas.edges.labels.curve.js\"></script>\n",
       "<script src=\"../lib/sigmajs/sigma.canvas.edges.labels.def.js\"></script>\n",
       "<script src=\"../lib/sigmajs/sigma.exporters.svg.js\"></script>\n",
       "<script src=\"../lib/sigmajs/settings.js\"></script>\n"
      ],
      "text/plain": [
       "<IPython.core.display.HTML object>"
      ]
     },
     "execution_count": 1,
     "metadata": {},
     "output_type": "execute_result"
    }
   ],
   "source": [
    "from IPython.core.display import display, HTML, Markdown, clear_output, Javascript\n",
    "from string import Template\n",
    "import pandas as pd\n",
    "import json, random\n",
    "import yaml\n",
    "import copy\n",
    "import networkx as nx\n",
    "import math\n",
    "import xml.etree.ElementTree as ET\n",
    "import ipywidgets as widgets\n",
    "import os\n",
    "import time\n",
    "import os.path\n",
    "from os import path as p\n",
    "\n",
    "#display(HTML('<style>.prompt{width: 0px; visibility: hidden}</style>'))\n",
    "# load HTML script\n",
    "HTML('''\n",
    "<script src=\"../lib/sigmajs/sigma.min.js\"></script>\n",
    "<script src=\"../lib/sigmajs/sigma.plugins.dragNodes.js\"></script>\n",
    "<script src=\"../lib/sigmajs/sigma.canvas.edges.labels.curvedArrow.js\"></script>\n",
    "<script src=\"../lib/sigmajs/sigma.canvas.edges.curvedArrow.js\"></script>\n",
    "<script src=\"../lib/sigmajs/sigma.canvas.edges.curve.js\"></script>\n",
    "<script src=\"../lib/sigmajs/sigma.canvas.edges.labels.curve.js\"></script>\n",
    "<script src=\"../lib/sigmajs/sigma.canvas.edges.labels.def.js\"></script>\n",
    "<script src=\"../lib/sigmajs/sigma.exporters.svg.js\"></script>\n",
    "<script src=\"../lib/sigmajs/settings.js\"></script>\n",
    "''')"
   ]
  },
  {
   "cell_type": "code",
   "execution_count": 2,
   "metadata": {
    "init_cell": true
   },
   "outputs": [
    {
     "data": {
      "application/vnd.jupyter.widget-view+json": {
       "model_id": "8ea26099f55e4a6183c35b26c9dba53e",
       "version_major": 2,
       "version_minor": 0
      },
      "text/plain": [
       "Button(description='Run', style=ButtonStyle())"
      ]
     },
     "metadata": {},
     "output_type": "display_data"
    },
    {
     "data": {
      "application/vnd.jupyter.widget-view+json": {
       "model_id": "73ecbd22eec54ac6b11315c2e05a383d",
       "version_major": 2,
       "version_minor": 0
      },
      "text/plain": [
       "Output()"
      ]
     },
     "metadata": {},
     "output_type": "display_data"
    }
   ],
   "source": [
    "from IPython.core.display import display, HTML, Markdown, clear_output, Javascript\n",
    "import ipywidgets as widgets\n",
    "button2 = widgets.Button(description=\"Run\")\n",
    "output2 = widgets.Output()\n",
    "display(button2, output2)\n",
    "\n",
    "def on_run_clicked1(b):\n",
    "    with output2:\n",
    "        display(Javascript('''\n",
    "        function sleep2(milliseconds) {\n",
    "          var start = new Date().getTime();\n",
    "          for (var i = 0; i < 1e7; i++) {\n",
    "            if ((new Date().getTime() - start) > milliseconds){\n",
    "              break;\n",
    "            }\n",
    "          }\n",
    "        }\n",
    "        var k = 3\n",
    "        //IPython.notebook.execute_cells([0])\n",
    "        try{\n",
    "            while(k < 50){\n",
    "                IPython.notebook.execute_cells([k])\n",
    "                k = k+1\n",
    "                sleep2(50)\n",
    "            }\n",
    "        }catch{}\n",
    "        '''))\n",
    "button2.on_click(on_run_clicked1)"
   ]
  },
  {
   "cell_type": "code",
   "execution_count": 3,
   "metadata": {
    "init_cell": true
   },
   "outputs": [
    {
     "data": {
      "application/javascript": [
       "var kernel2 = IPython.notebook.kernel;\n",
       "var thename = window.document.getElementById(\"notebook_name\").innerHTML;\n",
       "var command = \"theNotebook = \" + \"'\"+thename+\"'\";\n",
       "kernel2.execute(command);\n"
      ],
      "text/plain": [
       "<IPython.core.display.Javascript object>"
      ]
     },
     "metadata": {},
     "output_type": "display_data"
    }
   ],
   "source": [
    "%%javascript\n",
    "var kernel2 = IPython.notebook.kernel;\n",
    "var thename = window.document.getElementById(\"notebook_name\").innerHTML;\n",
    "var command = \"theNotebook = \" + \"'\"+thename+\"'\";\n",
    "kernel2.execute(command);"
   ]
  },
  {
   "cell_type": "code",
   "execution_count": null,
   "metadata": {
    "hide_input": false
   },
   "outputs": [],
   "source": [
    "str_list = theNotebook.split(\"_\")\n",
    "exercise = str_list[1]\n",
    "%run -i \"exercise_graph/script/load_config.py\" $exercise\n",
    "if sys.version_info[0] == 3:\n",
    "    txt = open(yaml_text[0], 'r',encoding='utf-8')\n",
    "    content = txt.read()\n",
    "else:\n",
    "    txt = open(yaml_text[0], \"rb\")\n",
    "    content = txt.read().decode(\"UTF-8\")\n",
    "text_str = \"# \"+ str_list[0].upper() + \" \" + str_list[1] + content\n",
    "Markdown(text_str)"
   ]
  },
  {
   "cell_type": "code",
   "execution_count": null,
   "metadata": {},
   "outputs": [],
   "source": [
    "text_exe = '0'\n",
    "submit_cell = '0'\n",
    "%run -i \"../lib/pygraph/parserx\" $yaml_graph_path\n",
    "%run -i \"../lib/pygraph/tools_choice.py\" intro\n",
    "\n",
    "# draw graph \n",
    "#lettura js per creazione grafo\n",
    "js_text_template = Template(open(yaml_js_path,'r').read())\n",
    "#faccio il dump della struttura che ho creato dentro il js\n",
    "js_text = js_text_template.substitute({'graph_data': json.dumps(graph_data),\n",
    "                                       'exercise' : text_exe,\n",
    "                                      'container':'sigma-container'+text_exe,\n",
    "                                      'data':not_editable,\n",
    "                                      's':'s'+text_exe,\n",
    "                                     'n':'n'+text_exe,\n",
    "                                      'ef':'`'+str(friends_e)+'`',\n",
    "                                      'nf':'`'+str(friends_n)+'`',\n",
    "                                       's_cell': 'cell'+text_exe,\n",
    "                                      'submit_cell':submit_cell})\n",
    "\n",
    "html_template = Template('''\n",
    "\n",
    "<link rel=\"stylesheet\" href=\"../css/style.css\">\n",
    "\n",
    "<div style=\"width:100%;margin-top: 30px; display: flex;flex-wrap: wrap\">\n",
    "\n",
    "    <div class=\"row\" style=\"width:100%;border: solid; border-color: #1e6add; border-width: 2px;\">\n",
    "        <div id=\"sigma-container'''+text_exe+'''\" style=\"height:500px\"></div>\n",
    "    </div>\n",
    "    <div class=\"btn-group_1\" role=\"group\">\n",
    "        ''' + html_text + '''\n",
    "    </div>\n",
    "</div>\n",
    "<script> $js_text </script>\n",
    "''')\n",
    "#render HTML con sostituzione variabili\n",
    "HTML(html_template.substitute({'js_text': js_text}))"
   ]
  },
  {
   "cell_type": "code",
   "execution_count": null,
   "metadata": {},
   "outputs": [],
   "source": [
    "if sys.version_info[0] == 3:\n",
    "    txt = open(yaml_text[1], 'r',encoding='utf-8')\n",
    "    content = txt.read()\n",
    "else:\n",
    "    txt = open(yaml_text[1], \"rb\")\n",
    "    content = txt.read().decode(\"UTF-8\")\n",
    "Markdown(content)"
   ]
  },
  {
   "cell_type": "code",
   "execution_count": 8,
   "metadata": {},
   "outputs": [
    {
     "ename": "ValueError",
     "evalue": "No closing quotation",
     "output_type": "error",
     "traceback": [
      "\u001b[0;31m---------------------------------------------------------------------------\u001b[0m",
      "\u001b[0;31mValueError\u001b[0m                                Traceback (most recent call last)",
      "\u001b[0;32m~/corsi/RO/jupyther/ROexamTesting/lib/pygraph/json_to_nx.py\u001b[0m in \u001b[0;36m<module>\u001b[0;34m\u001b[0m\n\u001b[1;32m      5\u001b[0m \u001b[0mget_ipython\u001b[0m\u001b[0;34m(\u001b[0m\u001b[0;34m)\u001b[0m\u001b[0;34m.\u001b[0m\u001b[0mrun_line_magic\u001b[0m\u001b[0;34m(\u001b[0m\u001b[0;34m'run'\u001b[0m\u001b[0;34m,\u001b[0m \u001b[0;34m'-i \"../lib/pygraph/json_to_nx\"'\u001b[0m\u001b[0;34m)\u001b[0m\u001b[0;34m\u001b[0m\u001b[0;34m\u001b[0m\u001b[0m\n\u001b[1;32m      6\u001b[0m \u001b[0;31m#definizione verificatore\u001b[0m\u001b[0;34m\u001b[0m\u001b[0;34m\u001b[0m\u001b[0;34m\u001b[0m\u001b[0m\n\u001b[0;32m----> 7\u001b[0;31m \u001b[0mget_ipython\u001b[0m\u001b[0;34m(\u001b[0m\u001b[0;34m)\u001b[0m\u001b[0;34m.\u001b[0m\u001b[0mrun_line_magic\u001b[0m\u001b[0;34m(\u001b[0m\u001b[0;34m'run'\u001b[0m\u001b[0;34m,\u001b[0m \u001b[0;34m'-i \"exercise_graph/verifier/v_1'\u001b[0m\u001b[0;34m)\u001b[0m\u001b[0;34m\u001b[0m\u001b[0;34m\u001b[0m\u001b[0m\n\u001b[0m",
      "\u001b[0;32m~/anaconda3/envs/ROexam/lib/python3.8/site-packages/IPython/core/interactiveshell.py\u001b[0m in \u001b[0;36mrun_line_magic\u001b[0;34m(self, magic_name, line, _stack_depth)\u001b[0m\n\u001b[1;32m   2315\u001b[0m                 \u001b[0mkwargs\u001b[0m\u001b[0;34m[\u001b[0m\u001b[0;34m'local_ns'\u001b[0m\u001b[0;34m]\u001b[0m \u001b[0;34m=\u001b[0m \u001b[0msys\u001b[0m\u001b[0;34m.\u001b[0m\u001b[0m_getframe\u001b[0m\u001b[0;34m(\u001b[0m\u001b[0mstack_depth\u001b[0m\u001b[0;34m)\u001b[0m\u001b[0;34m.\u001b[0m\u001b[0mf_locals\u001b[0m\u001b[0;34m\u001b[0m\u001b[0;34m\u001b[0m\u001b[0m\n\u001b[1;32m   2316\u001b[0m             \u001b[0;32mwith\u001b[0m \u001b[0mself\u001b[0m\u001b[0;34m.\u001b[0m\u001b[0mbuiltin_trap\u001b[0m\u001b[0;34m:\u001b[0m\u001b[0;34m\u001b[0m\u001b[0;34m\u001b[0m\u001b[0m\n\u001b[0;32m-> 2317\u001b[0;31m                 \u001b[0mresult\u001b[0m \u001b[0;34m=\u001b[0m \u001b[0mfn\u001b[0m\u001b[0;34m(\u001b[0m\u001b[0;34m*\u001b[0m\u001b[0margs\u001b[0m\u001b[0;34m,\u001b[0m \u001b[0;34m**\u001b[0m\u001b[0mkwargs\u001b[0m\u001b[0;34m)\u001b[0m\u001b[0;34m\u001b[0m\u001b[0;34m\u001b[0m\u001b[0m\n\u001b[0m\u001b[1;32m   2318\u001b[0m             \u001b[0;32mreturn\u001b[0m \u001b[0mresult\u001b[0m\u001b[0;34m\u001b[0m\u001b[0;34m\u001b[0m\u001b[0m\n\u001b[1;32m   2319\u001b[0m \u001b[0;34m\u001b[0m\u001b[0m\n",
      "\u001b[0;32m<decorator-gen-59>\u001b[0m in \u001b[0;36mrun\u001b[0;34m(self, parameter_s, runner, file_finder)\u001b[0m\n",
      "\u001b[0;32m~/anaconda3/envs/ROexam/lib/python3.8/site-packages/IPython/core/magic.py\u001b[0m in \u001b[0;36m<lambda>\u001b[0;34m(f, *a, **k)\u001b[0m\n\u001b[1;32m    185\u001b[0m     \u001b[0;31m# but it's overkill for just that one bit of state.\u001b[0m\u001b[0;34m\u001b[0m\u001b[0;34m\u001b[0m\u001b[0;34m\u001b[0m\u001b[0m\n\u001b[1;32m    186\u001b[0m     \u001b[0;32mdef\u001b[0m \u001b[0mmagic_deco\u001b[0m\u001b[0;34m(\u001b[0m\u001b[0marg\u001b[0m\u001b[0;34m)\u001b[0m\u001b[0;34m:\u001b[0m\u001b[0;34m\u001b[0m\u001b[0;34m\u001b[0m\u001b[0m\n\u001b[0;32m--> 187\u001b[0;31m         \u001b[0mcall\u001b[0m \u001b[0;34m=\u001b[0m \u001b[0;32mlambda\u001b[0m \u001b[0mf\u001b[0m\u001b[0;34m,\u001b[0m \u001b[0;34m*\u001b[0m\u001b[0ma\u001b[0m\u001b[0;34m,\u001b[0m \u001b[0;34m**\u001b[0m\u001b[0mk\u001b[0m\u001b[0;34m:\u001b[0m \u001b[0mf\u001b[0m\u001b[0;34m(\u001b[0m\u001b[0;34m*\u001b[0m\u001b[0ma\u001b[0m\u001b[0;34m,\u001b[0m \u001b[0;34m**\u001b[0m\u001b[0mk\u001b[0m\u001b[0;34m)\u001b[0m\u001b[0;34m\u001b[0m\u001b[0;34m\u001b[0m\u001b[0m\n\u001b[0m\u001b[1;32m    188\u001b[0m \u001b[0;34m\u001b[0m\u001b[0m\n\u001b[1;32m    189\u001b[0m         \u001b[0;32mif\u001b[0m \u001b[0mcallable\u001b[0m\u001b[0;34m(\u001b[0m\u001b[0marg\u001b[0m\u001b[0;34m)\u001b[0m\u001b[0;34m:\u001b[0m\u001b[0;34m\u001b[0m\u001b[0;34m\u001b[0m\u001b[0m\n",
      "\u001b[0;32m~/anaconda3/envs/ROexam/lib/python3.8/site-packages/IPython/core/magics/execution.py\u001b[0m in \u001b[0;36mrun\u001b[0;34m(self, parameter_s, runner, file_finder)\u001b[0m\n\u001b[1;32m    682\u001b[0m \u001b[0;34m\u001b[0m\u001b[0m\n\u001b[1;32m    683\u001b[0m         \u001b[0;31m# get arguments and set sys.argv for program to be run.\u001b[0m\u001b[0;34m\u001b[0m\u001b[0;34m\u001b[0m\u001b[0;34m\u001b[0m\u001b[0m\n\u001b[0;32m--> 684\u001b[0;31m         opts, arg_lst = self.parse_options(parameter_s,\n\u001b[0m\u001b[1;32m    685\u001b[0m                                            \u001b[0;34m'nidtN:b:pD:l:rs:T:em:G'\u001b[0m\u001b[0;34m,\u001b[0m\u001b[0;34m\u001b[0m\u001b[0;34m\u001b[0m\u001b[0m\n\u001b[1;32m    686\u001b[0m                                            mode='list', list_all=1)\n",
      "\u001b[0;32m~/anaconda3/envs/ROexam/lib/python3.8/site-packages/IPython/core/magic.py\u001b[0m in \u001b[0;36mparse_options\u001b[0;34m(self, arg_str, opt_str, *long_opts, **kw)\u001b[0m\n\u001b[1;32m    625\u001b[0m             \u001b[0;31m# If the list of inputs only has 0 or 1 thing in it, there's no\u001b[0m\u001b[0;34m\u001b[0m\u001b[0;34m\u001b[0m\u001b[0;34m\u001b[0m\u001b[0m\n\u001b[1;32m    626\u001b[0m             \u001b[0;31m# need to look for options\u001b[0m\u001b[0;34m\u001b[0m\u001b[0;34m\u001b[0m\u001b[0;34m\u001b[0m\u001b[0m\n\u001b[0;32m--> 627\u001b[0;31m             \u001b[0margv\u001b[0m \u001b[0;34m=\u001b[0m \u001b[0marg_split\u001b[0m\u001b[0;34m(\u001b[0m\u001b[0marg_str\u001b[0m\u001b[0;34m,\u001b[0m \u001b[0mposix\u001b[0m\u001b[0;34m,\u001b[0m \u001b[0mstrict\u001b[0m\u001b[0;34m)\u001b[0m\u001b[0;34m\u001b[0m\u001b[0;34m\u001b[0m\u001b[0m\n\u001b[0m\u001b[1;32m    628\u001b[0m             \u001b[0;31m# Do regular option processing\u001b[0m\u001b[0;34m\u001b[0m\u001b[0;34m\u001b[0m\u001b[0;34m\u001b[0m\u001b[0m\n\u001b[1;32m    629\u001b[0m             \u001b[0;32mtry\u001b[0m\u001b[0;34m:\u001b[0m\u001b[0;34m\u001b[0m\u001b[0;34m\u001b[0m\u001b[0m\n",
      "\u001b[0;32m~/anaconda3/envs/ROexam/lib/python3.8/site-packages/IPython/utils/_process_common.py\u001b[0m in \u001b[0;36marg_split\u001b[0;34m(s, posix, strict)\u001b[0m\n\u001b[1;32m    200\u001b[0m     \u001b[0;32mwhile\u001b[0m \u001b[0;32mTrue\u001b[0m\u001b[0;34m:\u001b[0m\u001b[0;34m\u001b[0m\u001b[0;34m\u001b[0m\u001b[0m\n\u001b[1;32m    201\u001b[0m         \u001b[0;32mtry\u001b[0m\u001b[0;34m:\u001b[0m\u001b[0;34m\u001b[0m\u001b[0;34m\u001b[0m\u001b[0m\n\u001b[0;32m--> 202\u001b[0;31m             \u001b[0mtokens\u001b[0m\u001b[0;34m.\u001b[0m\u001b[0mappend\u001b[0m\u001b[0;34m(\u001b[0m\u001b[0mnext\u001b[0m\u001b[0;34m(\u001b[0m\u001b[0mlex\u001b[0m\u001b[0;34m)\u001b[0m\u001b[0;34m)\u001b[0m\u001b[0;34m\u001b[0m\u001b[0;34m\u001b[0m\u001b[0m\n\u001b[0m\u001b[1;32m    203\u001b[0m         \u001b[0;32mexcept\u001b[0m \u001b[0mStopIteration\u001b[0m\u001b[0;34m:\u001b[0m\u001b[0;34m\u001b[0m\u001b[0;34m\u001b[0m\u001b[0m\n\u001b[1;32m    204\u001b[0m             \u001b[0;32mbreak\u001b[0m\u001b[0;34m\u001b[0m\u001b[0;34m\u001b[0m\u001b[0m\n",
      "\u001b[0;32m~/anaconda3/envs/ROexam/lib/python3.8/shlex.py\u001b[0m in \u001b[0;36m__next__\u001b[0;34m(self)\u001b[0m\n\u001b[1;32m    298\u001b[0m \u001b[0;34m\u001b[0m\u001b[0m\n\u001b[1;32m    299\u001b[0m     \u001b[0;32mdef\u001b[0m \u001b[0m__next__\u001b[0m\u001b[0;34m(\u001b[0m\u001b[0mself\u001b[0m\u001b[0;34m)\u001b[0m\u001b[0;34m:\u001b[0m\u001b[0;34m\u001b[0m\u001b[0;34m\u001b[0m\u001b[0m\n\u001b[0;32m--> 300\u001b[0;31m         \u001b[0mtoken\u001b[0m \u001b[0;34m=\u001b[0m \u001b[0mself\u001b[0m\u001b[0;34m.\u001b[0m\u001b[0mget_token\u001b[0m\u001b[0;34m(\u001b[0m\u001b[0;34m)\u001b[0m\u001b[0;34m\u001b[0m\u001b[0;34m\u001b[0m\u001b[0m\n\u001b[0m\u001b[1;32m    301\u001b[0m         \u001b[0;32mif\u001b[0m \u001b[0mtoken\u001b[0m \u001b[0;34m==\u001b[0m \u001b[0mself\u001b[0m\u001b[0;34m.\u001b[0m\u001b[0meof\u001b[0m\u001b[0;34m:\u001b[0m\u001b[0;34m\u001b[0m\u001b[0;34m\u001b[0m\u001b[0m\n\u001b[1;32m    302\u001b[0m             \u001b[0;32mraise\u001b[0m \u001b[0mStopIteration\u001b[0m\u001b[0;34m\u001b[0m\u001b[0;34m\u001b[0m\u001b[0m\n",
      "\u001b[0;32m~/anaconda3/envs/ROexam/lib/python3.8/shlex.py\u001b[0m in \u001b[0;36mget_token\u001b[0;34m(self)\u001b[0m\n\u001b[1;32m    107\u001b[0m             \u001b[0;32mreturn\u001b[0m \u001b[0mtok\u001b[0m\u001b[0;34m\u001b[0m\u001b[0;34m\u001b[0m\u001b[0m\n\u001b[1;32m    108\u001b[0m         \u001b[0;31m# No pushback.  Get a token.\u001b[0m\u001b[0;34m\u001b[0m\u001b[0;34m\u001b[0m\u001b[0;34m\u001b[0m\u001b[0m\n\u001b[0;32m--> 109\u001b[0;31m         \u001b[0mraw\u001b[0m \u001b[0;34m=\u001b[0m \u001b[0mself\u001b[0m\u001b[0;34m.\u001b[0m\u001b[0mread_token\u001b[0m\u001b[0;34m(\u001b[0m\u001b[0;34m)\u001b[0m\u001b[0;34m\u001b[0m\u001b[0;34m\u001b[0m\u001b[0m\n\u001b[0m\u001b[1;32m    110\u001b[0m         \u001b[0;31m# Handle inclusions\u001b[0m\u001b[0;34m\u001b[0m\u001b[0;34m\u001b[0m\u001b[0;34m\u001b[0m\u001b[0m\n\u001b[1;32m    111\u001b[0m         \u001b[0;32mif\u001b[0m \u001b[0mself\u001b[0m\u001b[0;34m.\u001b[0m\u001b[0msource\u001b[0m \u001b[0;32mis\u001b[0m \u001b[0;32mnot\u001b[0m \u001b[0;32mNone\u001b[0m\u001b[0;34m:\u001b[0m\u001b[0;34m\u001b[0m\u001b[0;34m\u001b[0m\u001b[0m\n",
      "\u001b[0;32m~/anaconda3/envs/ROexam/lib/python3.8/shlex.py\u001b[0m in \u001b[0;36mread_token\u001b[0;34m(self)\u001b[0m\n\u001b[1;32m    189\u001b[0m                         \u001b[0mprint\u001b[0m\u001b[0;34m(\u001b[0m\u001b[0;34m\"shlex: I see EOF in quotes state\"\u001b[0m\u001b[0;34m)\u001b[0m\u001b[0;34m\u001b[0m\u001b[0;34m\u001b[0m\u001b[0m\n\u001b[1;32m    190\u001b[0m                     \u001b[0;31m# XXX what error should be raised here?\u001b[0m\u001b[0;34m\u001b[0m\u001b[0;34m\u001b[0m\u001b[0;34m\u001b[0m\u001b[0m\n\u001b[0;32m--> 191\u001b[0;31m                     \u001b[0;32mraise\u001b[0m \u001b[0mValueError\u001b[0m\u001b[0;34m(\u001b[0m\u001b[0;34m\"No closing quotation\"\u001b[0m\u001b[0;34m)\u001b[0m\u001b[0;34m\u001b[0m\u001b[0;34m\u001b[0m\u001b[0m\n\u001b[0m\u001b[1;32m    192\u001b[0m                 \u001b[0;32mif\u001b[0m \u001b[0mnextchar\u001b[0m \u001b[0;34m==\u001b[0m \u001b[0mself\u001b[0m\u001b[0;34m.\u001b[0m\u001b[0mstate\u001b[0m\u001b[0;34m:\u001b[0m\u001b[0;34m\u001b[0m\u001b[0;34m\u001b[0m\u001b[0m\n\u001b[1;32m    193\u001b[0m                     \u001b[0;32mif\u001b[0m \u001b[0;32mnot\u001b[0m \u001b[0mself\u001b[0m\u001b[0;34m.\u001b[0m\u001b[0mposix\u001b[0m\u001b[0;34m:\u001b[0m\u001b[0;34m\u001b[0m\u001b[0;34m\u001b[0m\u001b[0m\n",
      "\u001b[0;31mValueError\u001b[0m: No closing quotation"
     ]
    }
   ],
   "source": [
    "#requisiti esercizio (bottoni ecc)\n",
    "%run -i \"../lib/pygraph/tools_choice.py\" $exercise\n",
    "#parsing del grafo xml o graphml, viene creato graph_data, original_nodes e original_edges\n",
    "%run -i \"../lib/pygraph/parserx\" $yaml_graph_path\n",
    "%run -i \"../lib/pygraph/json_to_nx\"\n",
    "#definizione verificatore\n",
    "%run -i \"exercise_graph/verifier/v_1"
   ]
  },
  {
   "cell_type": "code",
   "execution_count": null,
   "metadata": {},
   "outputs": [],
   "source": [
    "init_graph = copy.deepcopy(graph_data)\n",
    "if p.exists('exercise_graph/data/tmp/graph_data'+exercise+'.json'):\n",
    "    with open('exercise_graph/data/tmp/graph_data'+exercise+'.json') as json_file:     \n",
    "        graph_data = json.load(json_file) "
   ]
  },
  {
   "cell_type": "code",
   "execution_count": null,
   "metadata": {
    "scrolled": false
   },
   "outputs": [],
   "source": [
    "choice = False\n",
    "# draw graph \n",
    "#lettura js per creazione grafo\n",
    "js_text_template = Template(open(yaml_js_path,'r').read())\n",
    "#faccio il dump della struttura che ho creato dentro il js\n",
    "js_text = js_text_template.substitute({'graph_data': json.dumps(graph_data),\n",
    "                                       'exercise' : exercise,\n",
    "                                      'container':'sigma-container'+exercise,\n",
    "                                      'data':not_editable,\n",
    "                                      's':'s'+exercise,\n",
    "                                     'n':'n'+exercise,\n",
    "                                      'ef':'`'+str(friends_e)+'`',\n",
    "                                      'nf':'`'+str(friends_n)+'`',\n",
    "                                       's_cell': 'cell'+exercise,\n",
    "                                      'submit_cell':submit_cell})\n",
    "\n",
    "html_template = Template('''\n",
    "\n",
    "<link rel=\"stylesheet\" href=\"../css/style.css\">\n",
    "\n",
    "<div style=\"width:100%;margin-top: 30px; display: flex;flex-wrap: wrap\">\n",
    "\n",
    "    <div class=\"row\" style=\"width:100%;border: solid; border-color: #1e6add; border-width: 2px;\">\n",
    "        <div id=\"sigma-container'''+exercise+'''\" style=\"height:500px\"></div>\n",
    "    </div>\n",
    "    <div class=\"btn-group_1\" role=\"group\">\n",
    "        ''' + html_text + '''\n",
    "    </div>\n",
    "</div>\n",
    "<script> $js_text </script>\n",
    "''')\n",
    "#render HTML con sostituzione variabili\n",
    "HTML(html_template.substitute({'js_text': js_text}))"
   ]
  },
  {
   "cell_type": "code",
   "execution_count": 9,
   "metadata": {},
   "outputs": [
    {
     "data": {
      "application/vnd.jupyter.widget-view+json": {
       "model_id": "46d918c0805a478b9a008a757e3bc1a0",
       "version_major": 2,
       "version_minor": 0
      },
      "text/plain": [
       "HBox(children=(Button(description='Submit', style=ButtonStyle()), Button(description='Reset', style=ButtonStyl…"
      ]
     },
     "metadata": {},
     "output_type": "display_data"
    }
   ],
   "source": [
    "button = widgets.Button(description=\"Reset\")\n",
    "output = widgets.Output()\n",
    "\n",
    "def on_reset_clicked(b):\n",
    "    result = {}\n",
    "    original_graph={}\n",
    "    removed_nodes= 0\n",
    "    added_nodes = 0\n",
    "    added_edges = 0\n",
    "    removed_edges = 0\n",
    "    if os.path.exists('exercise_graph/data/tmp/svg'+exercise+'.svg'):\n",
    "        os.remove('exercise_graph/data/tmp/svg'+exercise+'.svg')\n",
    "    if os.path.exists('exercise_graph/data/tmp/graph_data'+exercise+'.json'):\n",
    "        os.remove('exercise_graph/data/tmp/graph_data'+exercise+'.json')\n",
    "    if os.path.exists('exercise_graph/data/tmp/exercise'+exercise+'.json'):\n",
    "        os.remove('exercise_graph/data/tmp/exercise'+exercise+'.json')\n",
    "    with output:\n",
    "        display(Javascript('''\n",
    "        var c = Jupyter.notebook.get_selected_index();\n",
    "        //IPython.notebook.execute_cells([c-4])\n",
    "        IPython.notebook.execute_cells([c-3])\n",
    "        IPython.notebook.execute_cells([c-2])\n",
    "        IPython.notebook.execute_cells([c-1])\n",
    "        IPython.notebook.execute_cells([c+1])\n",
    "        '''))\n",
    "button.on_click(on_reset_clicked)\n",
    "\n",
    "button1 = widgets.Button(description=\"Submit\")\n",
    "output1 = widgets.Output()\n",
    "\n",
    "def on_submit_clicked(b):\n",
    "    with output1:\n",
    "        display(Javascript('''\n",
    "        var d = Jupyter.notebook.get_selected_index();\n",
    "        IPython.notebook.execute_cells([d+1])\n",
    "        '''))\n",
    "button1.on_click(on_submit_clicked)\n",
    "\n",
    "widgets.HBox([button1, button])"
   ]
  },
  {
   "cell_type": "code",
   "execution_count": 11,
   "metadata": {},
   "outputs": [
    {
     "data": {
      "text/markdown": [
       "Cliccare save e dopo submit per controllare l'esercizio"
      ],
      "text/plain": [
       "<IPython.core.display.Markdown object>"
      ]
     },
     "metadata": {},
     "output_type": "display_data"
    }
   ],
   "source": [
    "result = {}\n",
    "original_graph={}\n",
    "removed_nodes= 0\n",
    "added_nodes = 0\n",
    "added_edges = 0\n",
    "removed_edges = 0\n",
    "submitted = False\n",
    "\n",
    "if p.exists('exercise_graph/data/tmp/graph_data'+exercise+'.json'):\n",
    "    with open('exercise_graph/data/tmp/graph_data'+exercise+'.json') as json_file:     \n",
    "        solution = json.load(json_file)\n",
    "        original_graph=json_to_nx_struct(init_graph)\n",
    "        result=json_to_nx_struct(solution)\n",
    "        result.update({'choice':choice})\n",
    "        submitted = True\n",
    "try:\n",
    "    if (len(original_graph['nodes'])-len(result['nodes']))<0:\n",
    "        added_nodes = abs(len(original_graph['nodes'])-len(result['nodes']))\n",
    "    else:\n",
    "        removed_nodes = len(original_graph['nodes'])-len(result['nodes'])\n",
    "    if (len(original_graph['edges'])-len(result['edges']))<0:\n",
    "        added_edges = abs(len(original_graph['edges'])-len(result['edges']))\n",
    "    else:\n",
    "        removed_edges = len(original_graph['edges'])-len(result['edges'])\n",
    "    result.update({'added_edges':added_edges,'removed_edges':removed_edges,'added_nodes':added_nodes,'removed_nodes':removed_nodes})\n",
    "except:\n",
    "    pass\n",
    "\n",
    "if submitted:\n",
    "    # chiamare il verificatore passando result\n",
    "    file = open('exercise_graph/data/tmp/exercise_'+exercise+'.json', 'w')\n",
    "    file.write(str(result))\n",
    "    file.close()\n",
    "    planar(result)\n",
    "else:\n",
    "    display(Markdown(\"Cliccare save e dopo submit per controllare l'esercizio\"))"
   ]
  }
 ],
 "metadata": {
  "celltoolbar": "Initialization Cell",
  "finalized": {
   "timestamp": 1588687136320,
   "trusted": true
  },
  "hide_input": true,
  "kernelspec": {
   "display_name": "Python 3",
   "language": "python",
   "name": "python3"
  },
  "language_info": {
   "codemirror_mode": {
    "name": "ipython",
    "version": 3
   },
   "file_extension": ".py",
   "mimetype": "text/x-python",
   "name": "python",
   "nbconvert_exporter": "python",
   "pygments_lexer": "ipython3",
   "version": "3.8.3"
  }
 },
 "nbformat": 4,
 "nbformat_minor": 2
}
