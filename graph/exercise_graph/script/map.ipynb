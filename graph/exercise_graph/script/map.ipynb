{
 "cells": [
  {
   "cell_type": "code",
   "execution_count": 1,
   "metadata": {},
   "outputs": [
    {
     "data": {
      "text/html": [
       "<h1 style=\"color:red;\"><a href=\"./../../../../notebooks/graph/Esercizio_1.ipynb\">Esercizio 1</a></h1><p>Si consideri il grafo $G$, riportato di seguito.</p><p>Dire, certificandolo, se il grafo $G$ è planare oppure no.\n",
       "- Nel caso affermativo:\n",
       "  -  Ordinare i nodi e gli archi in modo appropriato.\n",
       "  -  Cliccare sul tasto <em>yes</em> per confermare la scelta\n",
       "  -  Cliccare <em>save</em> per salvare la risposta\n",
       "  -  Cliccare <em>submmit</em> per sottomettere il problema e verificarne la correttezza. \n",
       "- Nel caso negativo:\n",
       "  - Cliccare sul bottone <em>no</em>\n",
       "  - Fornire un controesempio cliccando sul bottone <em>select</em> <strong>arancione</strong> e selezionare i <strong>nodi</strong> opportuni.\n",
       "  - Una volta termianto cliccare <em>save</em> per salvare la risposta\n",
       "  - Cliccare <em>submit</em> per sottomettere il problema e verificarne la correttezza.</p>"
      ],
      "text/plain": [
       "<IPython.core.display.HTML object>"
      ]
     },
     "metadata": {},
     "output_type": "display_data"
    },
    {
     "data": {
      "application/vnd.jupyter.widget-view+json": {
       "model_id": "a999ee52407e43129db9e14124f431ba",
       "version_major": 2,
       "version_minor": 0
      },
      "text/plain": [
       "FileUpload(value={}, description='Upload')"
      ]
     },
     "metadata": {},
     "output_type": "display_data"
    },
    {
     "data": {
      "text/html": [
       "<h1 style=\"color:red;\"><a href=\"./../../../../notebooks/graph/Esercizio_2.ipynb\">Esercizio 2</a></h1><h1>Planarità</h1>\n",
       "<p>Si consideri il grafo $G_1$, riportato di seguito.</p><p>Dire, certificandolo:\n",
       " - Se il grafo $G_1$, ottenuto da $G$ rimpiazzando l’arco $g-o$ con l’arco $g-h$, è planare oppure no, fornendo i certificati del caso.</p>"
      ],
      "text/plain": [
       "<IPython.core.display.HTML object>"
      ]
     },
     "metadata": {},
     "output_type": "display_data"
    },
    {
     "data": {
      "application/vnd.jupyter.widget-view+json": {
       "model_id": "5e1ee069bc50455591d400f5556f44ee",
       "version_major": 2,
       "version_minor": 0
      },
      "text/plain": [
       "FileUpload(value={}, description='Upload')"
      ]
     },
     "metadata": {},
     "output_type": "display_data"
    },
    {
     "data": {
      "text/html": [
       "<h1 style=\"color:red;\"><a href=\"./../../../../notebooks/graph/Esercizio_3.ipynb\">Esercizio 3</a></h1><h1>Bipartizione</h1>\n",
       "<p>Si consideri il grafo $G$, riportato di seguito.</p><p>Dire, fornendo il certificato:\n",
       "- Quale sia il minimo numero di archi la cui rimozione renda bipartito il grafo $G$.</p>"
      ],
      "text/plain": [
       "<IPython.core.display.HTML object>"
      ]
     },
     "metadata": {},
     "output_type": "display_data"
    },
    {
     "data": {
      "application/vnd.jupyter.widget-view+json": {
       "model_id": "36de223f1fc54db48db482f466b85b9e",
       "version_major": 2,
       "version_minor": 0
      },
      "text/plain": [
       "FileUpload(value={}, description='Upload')"
      ]
     },
     "metadata": {},
     "output_type": "display_data"
    },
    {
     "data": {
      "text/html": [
       "<h1 style=\"color:red;\"><a href=\"./../../../../notebooks/graph/Esercizio_4.ipynb\">Esercizio 4</a></h1><h1>Bipartizione</h1>\n",
       "<p>Si consideri il grafo $G_1$, riportato di seguito.</p><p>Fornendo il certificatio del caso: \n",
       "- Dire quale sia il minimo numero di archi la cui rimozione renda bipartito il grafo $G_1$, ottenuto da $G$ rimpiazzando l’arco $g-o$ con l’arco $g-h$:</p>"
      ],
      "text/plain": [
       "<IPython.core.display.HTML object>"
      ]
     },
     "metadata": {},
     "output_type": "display_data"
    },
    {
     "data": {
      "application/vnd.jupyter.widget-view+json": {
       "model_id": "79ba4d3404b2401b9cd0bdcbae87dcaf",
       "version_major": 2,
       "version_minor": 0
      },
      "text/plain": [
       "FileUpload(value={}, description='Upload')"
      ]
     },
     "metadata": {},
     "output_type": "display_data"
    },
    {
     "data": {
      "text/html": [
       "<h1 style=\"color:red;\"><a href=\"./../../../../notebooks/graph/Esercizio_5.ipynb\">Esercizio 5</a></h1><h1>Albero ricoprente</h1>\n",
       "<p>Si consideri il grafo $G$, riportato di seguito.</p><ul>\n",
       "<li>Trovare un albero ricoprente di $G$ di peso minimo.</li>\n",
       "</ul><ul>\n",
       "<li>Per ciascuno dei seguenti archi dire, certificandolo, se esso appartenga a (tutte / anessuna / a qualcuna ma non a tutte) le soluzioni ottime: </li>\n",
       "</ul><ul>\n",
       "<li>Trovare tutti gli alberi ricoprenti di peso minimo. (Dire quanti sono e specificare conprecisione come generarli).</li>\n",
       "</ul>"
      ],
      "text/plain": [
       "<IPython.core.display.HTML object>"
      ]
     },
     "metadata": {},
     "output_type": "display_data"
    },
    {
     "data": {
      "application/vnd.jupyter.widget-view+json": {
       "model_id": "773e0f94f45643719f93aa48f8a56c6b",
       "version_major": 2,
       "version_minor": 0
      },
      "text/plain": [
       "FileUpload(value={}, description='Upload')"
      ]
     },
     "metadata": {},
     "output_type": "display_data"
    },
    {
     "data": {
      "text/html": [
       "<h1 style=\"color:red;\"><a href=\"./../../../../notebooks/graph/Esercizio_6.ipynb\">Esercizio 6</a></h1><h1>Cammini minimi</h1>\n",
       "<p>Si consideri il grafo $G$, riportato di seguito.</p><ul>\n",
       "<li>Trovare un albero dei cammini minimi da $s$ e determinare le distanze di tutti i nodi da $s$</li>\n",
       "</ul><ul>\n",
       "<li>Trovare tutti gli alberi dei cammini minimi da $s$. (Dire quanti sono e specificare conprecisione come generarli).</li>\n",
       "</ul>"
      ],
      "text/plain": [
       "<IPython.core.display.HTML object>"
      ]
     },
     "metadata": {},
     "output_type": "display_data"
    },
    {
     "data": {
      "application/vnd.jupyter.widget-view+json": {
       "model_id": "b7d91c7eeba24492aeec711660ef6ca9",
       "version_major": 2,
       "version_minor": 0
      },
      "text/plain": [
       "FileUpload(value={}, description='Upload')"
      ]
     },
     "metadata": {},
     "output_type": "display_data"
    },
    {
     "data": {
      "text/html": [
       "<h1 style=\"color:red;\"><a href=\"./../../../../notebooks/graph/Esercizio_7.ipynb\">Esercizio 7</a></h1><h1>Flusso massimo</h1>\n",
       "<p>Si consideri il grafo $G$, riportato di seguito.</p><ul>\n",
       "<li>\n",
       "<p>Trovare un massimo flusso dal nodo $s$ al nodo $t$.</p>\n",
       "</li>\n",
       "<li>\n",
       "<p>Certificare l’ottimalità del flusso massimo dal nodo $s$ al nodo $t$</p>\n",
       "</li>\n",
       "</ul>"
      ],
      "text/plain": [
       "<IPython.core.display.HTML object>"
      ]
     },
     "metadata": {},
     "output_type": "display_data"
    },
    {
     "data": {
      "application/vnd.jupyter.widget-view+json": {
       "model_id": "5479ab914a4e4c4ab4315812141fa817",
       "version_major": 2,
       "version_minor": 0
      },
      "text/plain": [
       "FileUpload(value={}, description='Upload')"
      ]
     },
     "metadata": {},
     "output_type": "display_data"
    }
   ],
   "source": [
    "from IPython.core.display import display, HTML, Markdown, clear_output, Javascript\n",
    "import sys\n",
    "\n",
    "import ipywidgets as widgets\n",
    "import yaml\n",
    "import re\n",
    "import markdown\n",
    "import sys\n",
    "\n",
    "i = 1\n",
    "c = 0\n",
    "html = ''\n",
    "\n",
    "file = open(r'../config_exercise_graph.yaml')\n",
    "yaml_list = yaml.load(file, Loader=yaml.FullLoader)\n",
    "\n",
    "uploader_dict = {}\n",
    "updated_dict = {}\n",
    "observer_dict = {}\n",
    "name = ''\n",
    "def check_uploaded(change):\n",
    "    global c\n",
    "    global name\n",
    "    if c ==0:\n",
    "        name = change.new['metadata'][0]['name']\n",
    "    if c == 1:\n",
    "        with open(name, \"wb\") as fp:\n",
    "            fp.write(change.new[name]['content'])\n",
    "    c = c+1\n",
    "    if c == 6:\n",
    "        c =0\n",
    "for e in yaml_list:\n",
    "    if re.search('exe_*',e):\n",
    "        uploader_dict.update({e:widgets.FileUpload()})\n",
    "for e in uploader_dict:\n",
    "    uploader_dict[e].observe(check_uploaded,uploader_dict[e].value)\n",
    "    \n",
    "for e in yaml_list:\n",
    "    if re.search('exe_*',e):\n",
    "        html = '<h1 style=\"color:red;\"><a href=\"./../../../../notebooks/graph/Esercizio_'+str(i)+'.ipynb\">Esercizio '+str(i)+'</a></h1>'\n",
    "        ese = yaml_list.get('exe_'+str(i))\n",
    "        text = ese.get('text')\n",
    "        for t in text:\n",
    "            a = open('../../'+t, 'r',encoding='utf-8')\n",
    "            html = html + markdown.markdown(a.read())                 \n",
    "            a.close()\n",
    "        display(HTML(html))\n",
    "        display(uploader_dict[e] )\n",
    "        i = i+1\n"
   ]
  },
  {
   "cell_type": "code",
   "execution_count": null,
   "metadata": {},
   "outputs": [],
   "source": []
  },
  {
   "cell_type": "code",
   "execution_count": null,
   "metadata": {},
   "outputs": [],
   "source": []
  }
 ],
 "metadata": {
  "finalized": {
   "timestamp": 1591629153720,
   "trusted": true
  },
  "hide_input": false,
  "kernelspec": {
   "display_name": "Python 3",
   "language": "python",
   "name": "python3"
  },
  "language_info": {
   "codemirror_mode": {
    "name": "ipython",
    "version": 3
   },
   "file_extension": ".py",
   "mimetype": "text/x-python",
   "name": "python",
   "nbconvert_exporter": "python",
   "pygments_lexer": "ipython3",
   "version": "3.7.3"
  }
 },
 "nbformat": 4,
 "nbformat_minor": 4
}
