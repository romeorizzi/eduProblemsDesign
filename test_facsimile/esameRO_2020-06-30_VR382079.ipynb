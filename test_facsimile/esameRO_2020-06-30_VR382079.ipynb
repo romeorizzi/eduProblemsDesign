{
 "cells": [
  {
   "cell_type": "markdown",
   "metadata": {},
   "source": [
    "# TEMA D'ESAME DI RICERCA OPERATIVA DEL 30-06-2020 #\n",
    "\n",
    "## Matricola: VR382079 ##\n",
    "\n",
    "## Punti totali in palio: 760 pts ##\n"
   ]
  },
  {
   "cell_type": "markdown",
   "metadata": {},
   "source": [
    "<h3>Istruzioni:</h3>\n",
    "\n",
    "- Verifica subito di non riscontrare errori eseguendo la cella seguente;\n",
    "\n",
    "- Nella risoluzione degli esercizi troverai già di default delle celle _Raw NB Convert_ (testo semplice non formattato) o anche celle di tipo _Code_ (per programmare in Python); puoi comunque inserirne quante ne vuoi a tuo piacimento, sia _Raw_ sia _Code_ e anche _Markdown_ (se vuoi scrivere del testo e magari renderizzarlo come in LaTeX).\n"
   ]
  },
  {
   "cell_type": "markdown",
   "metadata": {},
   "source": [
    "## ESERCIZIO 1 \\[50 pts\\]##\n",
    "\n",
    "Trovare la più lunga sottosequenza comune tra le stringhe seguenti:\n",
    "- _s_ = ATTCTCACAATGCTTCTA\n",
    "- _t_ = ACTATCAGTCAACCTAT\n",
    "\n",
    "Fare lo stesso con alcuni suffissi di _s_ e _t_.\n",
    "\n",
    "__Richieste__:\n",
    "1. __\\[10 pts\\]__ Qual è la più lunga sottosequenza comune tra _s_ e _t_?\n",
    "2. __\\[10 pts\\]__ E nel caso sia richiesto che la sottosequenza comune incominci con 'C'?\n",
    "3. __\\[10 pts\\]__ E nel caso sia richiesto che la sottosequenza comune incominci con 'G'?\n",
    "3. __\\[10 pts\\]__ Qual è la più lunga sottosequenza comune tra _s_ e il suo suffisso _t9_ = TCAACCTAT di _t_?\n",
    "4. __\\[10 pts\\]__ Qual è la più lunga sottosequenza comune tra _t_ e il pre\f",
    "fisso _s8_ = TGCTTCTA di _s_?\n"
   ]
  },
  {
   "cell_type": "markdown",
   "metadata": {},
   "source": [
    "__Nota__: nella seguente cella di testo Raw puoi organizzarti come preferisci per produrre le risposte da immettere, aggiungendo anche tutte le altre celle che reputi necessarie.\n",
    "\n",
    "Puoi anche utilizzare https://www.tablesgenerator.com/markdown_tables per inserire la tua tabella di programmazione dinamica in una cella Markdown.\n"
   ]
  },
  {
   "cell_type": "raw",
   "metadata": {},
   "source": []
  },
  {
   "cell_type": "markdown",
   "metadata": {},
   "source": [
    "## ESERCIZIO 2 \\[40 pts\\]##\n",
    "\n",
    "Un robot R, inizialmente situato nella cella A1, deve portarsi nella sua home H situata nella cella G9.\n",
    "\n",
    "|   | 1 | 2 | 3 | 4 | 5 | 6 | 7 | 8 | 9 |\n",
    "|:-:|:-:|:-:|:-:|:-:|:-:|:-:|:-:|:-:|:-:|\n",
    "| A | R |   |   |   |   |   |   |   | X |\n",
    "| B |   |   | X |   | X | X |   |   |   |\n",
    "| C |   | X |   |   |   |   |   |   |   |\n",
    "| D |   |   | X |   |   | X |   |   |   |\n",
    "| E |   |   |   | X |   |   |   |   |   |\n",
    "| F |   |   | X |   | X |   |   |   |   |\n",
    "| G |   |   |   | X |   |   |   |   | H |\n",
    "\n",
    "I movimenti base possibili sono il passo verso destra (ad esempio dalla cella A4 alla cella A5) ed il passo verso in basso (ad esempio dalla cella A4 alla cella B4). Tuttavia il robot non può visitare le celle occupate da un Pacman (indicate con la X). Quanti sono i percorsi possibili?\n",
    "\n",
    "__Richieste__:\n",
    "1. __\\[10 pts\\]__ Quanti sono i percorsi possibili se la partenza è in A1?\n",
    "2. __\\[10 pts\\]__ E se la partenza è in C3?\n",
    "3. __\\[10 pts\\]__ E se con partenza in A1 il robot deve giungere in F6?\n",
    "4. __\\[10 pts\\]__ E se con partenza in A1 e arrivo in G9 al robot viene richiesto di passare per la cella D5?\n"
   ]
  },
  {
   "cell_type": "markdown",
   "metadata": {},
   "source": [
    "__Nota__: nella seguente cella di testo Raw puoi organizzarti come preferisci per produrre le risposte da immettere, aggiungendo anche tutte le altre celle che reputi necessarie.\n",
    "\n",
    "Puoi anche utilizzare https://www.tablesgenerator.com/markdown_tables per inserire la tua tabella di programmazione dinamica in una cella Markdown.\n"
   ]
  },
  {
   "cell_type": "raw",
   "metadata": {},
   "source": []
  },
  {
   "cell_type": "markdown",
   "metadata": {},
   "source": [
    "## ESERCIZIO 3 \\[20 pts\\]##\n",
    "\n",
    "Si consideri il grafo $G$ riportato in figura:\n",
    "<img src='images/grafo_plan.png' width=600>\n",
    "\n",
    "__Richieste__:\n",
    "\n",
    "1. __\\[20 pts\\]__ Dire se il grafo sia planare oppure no, fornendo un certificato\n"
   ]
  },
  {
   "cell_type": "markdown",
   "metadata": {},
   "source": [
    "__Nota__: nella seguente cella di testo Raw puoi organizzarti come preferisci per produrre le risposte da immettere, aggiungendo anche tutte le altre celle che reputi necessarie.\n",
    "\n",
    "Sito utile per disegnare il grafo e manipolare nodi e lati: https://www.nctm.org/Classroom-Resources/Illuminations/Interactives/Graph-Creator/\n"
   ]
  },
  {
   "cell_type": "raw",
   "metadata": {},
   "source": []
  },
  {
   "cell_type": "markdown",
   "metadata": {},
   "source": [
    "## ESERCIZIO 4 \\[90 pts\\]##\n",
    "\n",
    "Si consideri il grafo $G$, con pesi sugli archi, riportato in figura:\n",
    "<img src='images/grafo_plan1_pesi.png' width=800>\n",
    "\n",
    "__Richieste__:\n",
    "1. __\\[10 pts\\]__ Calcolare la distanza di $x$ da $s$\n",
    "2. __\\[10 pts\\]__ Fornire le distanze di ciascun nodo da $s$\n",
    "3. __\\[10 pts\\]__ Fornire un cammino minimo da $s$ a $x$\n",
    "4. __\\[10 pts\\]__ Fornire un albero dei cammini minimi dal nodo $s$ a tutti gli altri nodi del grafo\n",
    "5. __\\[20 pts\\]__ Specificare quanti siano i possibili alberi dei cammini minimi dal nodo $s$ a tutti gli altri nodi del grafo\n",
    "6. __\\[30 pts\\]__ Descrivere in modo chiaro e conciso la struttura della famiglia degli alberi dei cammini minimi\n"
   ]
  },
  {
   "cell_type": "markdown",
   "metadata": {},
   "source": [
    "__Nota__: nella seguente cella di testo Raw puoi organizzarti come preferisci per produrre le risposte da immettere, aggiungendo anche tutte le altre celle che reputi necessarie.\n",
    "\n",
    "Puoi anche utilizzare https://www.tablesgenerator.com/markdown_tables per inserire la tua tabella di programmazione dinamica in una cella Markdown.\n",
    "\n",
    "Sito utile per disegnare il grafo e manipolare nodi e lati: https://www.nctm.org/Classroom-Resources/Illuminations/Interactives/Graph-Creator/\n"
   ]
  },
  {
   "cell_type": "raw",
   "metadata": {},
   "source": []
  },
  {
   "cell_type": "markdown",
   "metadata": {},
   "source": [
    "## ESERCIZIO 5 \\[100 pts\\]##\n",
    "\n",
    "Si consideri il grafo $G$, con pesi sugli archi, riportato in figura:\n",
    "<img src='images/grafo_plan1_pesi.png' width=800>\n",
    "\n",
    "__Richieste__:\n",
    "1. __\\[10 pts\\]__ Fornire un albero ricoprente di peso minimo\n",
    "2. __\\[10 pts\\]__ Specificare quanti siano gli alberi ricoprenti di peso minimo\n",
    "3. __\\[30 pts\\]__ Descrivere in modo chiaro e conciso la struttura della famiglia degli alberi ricoprenti di peso minimo\n",
    "4. __\\[50 pts\\]__ Per ciascuno dei seguenti archi dire, certificandolo, se esso appartenga a tutti, oppure a nessuno, oppure a qualcuno ma non tutti gli alberi ricoprenti di peso minimo: $fg$, $on$, $qp$\n"
   ]
  },
  {
   "cell_type": "markdown",
   "metadata": {},
   "source": [
    "__Nota__: nella seguente cella di testo Raw puoi organizzarti come preferisci per produrre le risposte da immettere, aggiungendo anche tutte le altre celle che reputi necessarie.\n",
    "\n",
    "Puoi anche utilizzare https://www.tablesgenerator.com/markdown_tables per inserire la tua tabella di programmazione dinamica in una cella Markdown.\n",
    "\n",
    "Sito utile per disegnare il grafo e manipolare nodi e lati: https://www.nctm.org/Classroom-Resources/Illuminations/Interactives/Graph-Creator/\n"
   ]
  },
  {
   "cell_type": "raw",
   "metadata": {},
   "source": []
  },
  {
   "cell_type": "markdown",
   "metadata": {},
   "source": [
    "## ESERCIZIO 6 \\[110 pts\\]##\n",
    "\n",
    "Si consideri il grafo $G$, con pesi sugli archi, riportato in figura:\n",
    "<img src='images/grafo_plan1_pesi.png' width=800>\n",
    "\n",
    "__Richieste__:\n",
    "1. __\\[50 pts\\]__ Fornire un massimo flusso dal nodo $s$ al nodo $t$\n",
    "2. __\\[30 pts\\]__ Certificare l'ottimalità del flusso massimo dal nodo $s$ al nodo $t$\n",
    "3. __\\[30 pts\\]__ Per ciascuno dei seguenti tre archi dire, certificandolo, se esso appartenga a tutti, oppure a nessuno, oppure a qualcuno ma non tutti gli $s,t$-tagli di capacità minima: $ab$, $ih$, $uz$\n"
   ]
  },
  {
   "cell_type": "markdown",
   "metadata": {},
   "source": [
    "__Nota__: nella seguente cella di testo Raw puoi organizzarti come preferisci per produrre le risposte da immettere, aggiungendo anche tutte le altre celle che reputi necessarie.\n",
    "\n",
    "Puoi anche utilizzare https://www.tablesgenerator.com/markdown_tables per inserire la tua tabella di programmazione dinamica in una cella Markdown.\n",
    "\n",
    "Sito utile per disegnare il grafo e manipolare nodi e lati: https://www.nctm.org/Classroom-Resources/Illuminations/Interactives/Graph-Creator/\n"
   ]
  },
  {
   "cell_type": "raw",
   "metadata": {},
   "source": []
  },
  {
   "cell_type": "markdown",
   "metadata": {},
   "source": [
    "## ESERCIZIO 7 \\[110 pts\\]##\n",
    "\n",
    "Si consideri il seguente problema di Programmazione Lineare:\n",
    "\n",
    "max $6x_1 - 5x_2 - 3x_3 - 4x_4$\n",
    "\n",
    "tale che:\n",
    "\n",
    "\n",
    "$4x_1 + 5x_2 - 3x_3 + x4 \\le 5$\n",
    "\n",
    "$2x_1 - 5x_2 + x3 - x4 \\le -5$\n",
    "\n",
    "$2x_1 - x_2 + 2x_3 - x_4 \\le 4$\n",
    "\n",
    "$x_1, x_2, x_3, x_4 \\ge 0$\n",
    "\n",
    "\n",
    "__Richieste__:\n",
    "1. __\\[10 pts\\]__ Impostare il problema ausiliario\n",
    "2. __\\[30 pts\\]__ Risolvere il problema ausiliario per ottenere una soluzione ammissibile di base al problema originario\n",
    "3. __\\[10 pts\\]__ Dalla soluzione ottima del problema ausiliario, ricavare un tableau che esprima una soluzione di base ammissibile per il problema originario\n",
    "4. __\\[30 pts\\]__ Risolvere il problema originario all'ottimo\n",
    "5. __\\[10 pts\\]__ Quanto si sarebbe disposti a pagare per ogni unità di incremento per l'availability nei tre vincoli per piccole variazioni?\n",
    "6. __\\[20 pts\\]__ Fino a dove si sarebbe disposti a pagare tali prezzi ombra?\n"
   ]
  },
  {
   "cell_type": "markdown",
   "metadata": {},
   "source": [
    "__Nota__: nella seguente cella di testo Raw puoi organizzarti come preferisci per produrre le risposte da immettere, aggiungendo anche tutte le altre celle che reputi necessarie.\n",
    "\n",
    "Puoi anche utilizzare https://www.tablesgenerator.com/markdown_tables per inserire la tua tabella di programmazione dinamica in una cella Markdown.\n"
   ]
  },
  {
   "cell_type": "raw",
   "metadata": {},
   "source": []
  },
  {
   "cell_type": "markdown",
   "metadata": {},
   "source": [
    "## ESERCIZIO 8 \\[60 pts\\]##\n",
    "\n",
    "Si consideri la soluzione $x_3 = x_6 = 0, x_1 = 6, x_2 = 5, x_4 = 10, x_5 = 14$ del seguente problema:\n",
    "\n",
    "max $x_1 + 6x_2 + C_3x_3 + 11x_4 + 5x_5 + C_6x_6$\n",
    "\n",
    "tale che:\n",
    "\n",
    "$x_1 + x_2 + x_3 \\le 12$\n",
    "\n",
    "$x_3 + x_4 + x_6 \\le 10$\n",
    "\n",
    "$x_5 + x_6 \\le 14$\n",
    "\n",
    "$x_1 + 2_x3 + x_5 + 2x_6 \\le 20$\n",
    "\n",
    "$x_2 + x_4 + x_6 \\le 15$\n",
    "\n",
    "$x_1, x_2, x_3, x_4, x_5, x_6 \\ge 0$\n",
    "\n",
    "__Richieste__:\n",
    "1. __\\[10 pts\\]__ Verificare esplicitamente che la soluzione proposta sia ammissibile\n",
    "2. __\\[10 pts\\]__ Scrivere il problema duale\n",
    "3. __\\[10 pts\\]__ Impostare il sistema che esprima le condizioni agli scarti complementari\n",
    "4. __\\[10 pts\\]__ Risolvere il sistema per trovare una soluzione duale complementare alla soluzione primale fornita\n",
    "5. __\\[20 pts\\]__ Per quali valori dei parametri $C_3$ e $C_6$ la soluzione assegnata è ottima? Indicare con chiarezza tutte le verifiche che sei stato chiamato a compiere\n"
   ]
  },
  {
   "cell_type": "markdown",
   "metadata": {},
   "source": [
    "__Nota__: nella seguente cella di testo Raw puoi organizzarti come preferisci per produrre le risposte da immettere, aggiungendo anche tutte le altre celle che reputi necessarie.\n"
   ]
  },
  {
   "cell_type": "raw",
   "metadata": {},
   "source": []
  },
  {
   "cell_type": "markdown",
   "metadata": {},
   "source": [
    "## ESERCIZIO 9 \\[80 pts\\]##\n",
    "\n",
    "Si consideri il seguente problema di Programmazione Lineare:\n",
    "\n",
    "max $3x_1 + 2x_2 + 4x_3$\n",
    "\n",
    "tale che:\n",
    "\n",
    "$2x_1 + 7x_2 \\le 12$\n",
    "\n",
    "$x_1 + 7x_2 + 8x_3 \\le 24$\n",
    "\n",
    "$x_1 + 2x_2 + 12x_3 \\le 17$\n",
    "\n",
    "$x_1, x_2, x_3 \\ge 0$\n",
    "\n",
    "__Richieste__:\n",
    "1. __\\[10 pts\\]__ Sfruttando la libreria simplesso_interattivo.py, creare il primo tableau\n",
    "2. __\\[10 pts\\]__ Scrivere il vettore dei coefficienti di costo ridotto dopo la prima iterazione\n",
    "3. __\\[30 pts\\]__ Risolvere il problema sfruttando la libreria simplesso_interattivo.py, indicando la soluzione primale estesa ottima e il valore della funzione obiettivo\n",
    "4. __\\[10 pts\\]__ Indicare la soluzione duale estesa ottima e il valore della funzione obiettivo\n",
    "5. __\\[20 pts\\]__ Alla luce della teoria, motivare le risposte date ai punti 2 e 3 e i valori delle soluzioni ottenute\n"
   ]
  },
  {
   "cell_type": "markdown",
   "metadata": {},
   "source": [
    "__Nota__: nella seguente cella di testo Raw puoi organizzarti come preferisci per produrre le risposte da immettere, aggiungendo anche tutte le altre celle che reputi necessarie.\n"
   ]
  },
  {
   "cell_type": "raw",
   "metadata": {},
   "source": []
  },
  {
   "cell_type": "markdown",
   "metadata": {},
   "source": [
    "## ESERCIZIO 10 \\[100 pts\\]##\n",
    "\n",
    "Il sito web Informati.it spedisce via e-mail varie newsletter ai suoi utenti.\n",
    "Nato da pochissimo, per ora sono iscritte solo dieci persone alle seguenti newsletter:\n",
    "\n",
    "|                 | Alba | Barbara | Carlo | Dario | Emma | Fausto | Giosuè | Harry | Imma | John |\n",
    "|:---------------:|:----:|:-------:|:-----:|:-----:|:----:|:------:|:------:|:-----:|:----:|:----:|\n",
    "|     Cronaca     |      |    x    |   x   |       |      |    x   |        |   x   |      |   x  |\n",
    "|      Gossip     |   x  |         |       |       |   x  |        |    x   |       |   x  |   x  |\n",
    "|      Salute     |      |    x    |       |   x   |      |    x   |    x   |   x   |      |      |\n",
    "|     Ambiente    |      |    x    |       |   x   |      |        |        |       |      |   x  |\n",
    "|      Libri      |      |         |   x   |   x   |   x  |        |    x   |       |   x  |      |\n",
    "| Film e telefilm |   x  |    x    |       |       |   x  |        |    x   |   x   |      |      |\n",
    "|     Politica    |      |         |   x   |       |      |    x   |        |       |      |      |\n",
    "|     Economia    |   x  |         |   x   |   x   |      |    x   |        |       |   x  |   x  |\n",
    "\n",
    "Informati.it deve mandare una notizia straordinaria a tutti gli iscritti: qual è il sottoinsieme più piccolo di newsletter a cui mandare l'email, in modo da raggiungere tutti?\n",
    "\n",
    "__Richieste__:\n",
    "1. __\\[50 pts\\]__ Formulare il problema come problema di Programmazione Lineare Intera, motivando le scelte compiute in una cella Markdown o Raw\n",
    "2. __\\[50 pts\\]__ Risolvere il problema sfruttando la libreria Pulp\n"
   ]
  },
  {
   "cell_type": "markdown",
   "metadata": {},
   "source": [
    "__Nota__: nella seguente cella di testo Raw puoi organizzarti come preferisci per produrre le risposte da immettere, aggiungendo anche tutte le altre celle che reputi necessarie.\n"
   ]
  },
  {
   "cell_type": "raw",
   "metadata": {},
   "source": []
  },
  {
   "cell_type": "markdown",
   "metadata": {},
   "source": [
    "## NOTE FINALI ##\n",
    "\n",
    "1. Se avete inserito immagini nella cartella allegati/, controllate che le celle Markdown corrispondenti funzionino correttamente;\n",
    "2. Una volta che avete completato l'esame / volete consegnare e siete sicuri, salvate questo foglio e chiudete Jupyter-Notebook;\n",
    "3. Create un archivio .zip della cartella che avete scaricato, aggiungendo la vostra matricola alla fine del nome (i.e., test_yyyy-mm-d_VRXXXXXX.zip);\n",
    "4. Caricate l'archivio .zip sulla piattaforma.\n"
   ]
  }
 ],
 "metadata": {},
 "nbformat": 4,
 "nbformat_minor": 4
}
