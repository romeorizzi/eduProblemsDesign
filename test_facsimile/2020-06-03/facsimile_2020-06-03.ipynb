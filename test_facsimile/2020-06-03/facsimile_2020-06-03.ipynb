{
 "cells": [
  {
   "cell_type": "markdown",
   "metadata": {},
   "source": [
    "# RICERCA OPERATIVA - TEMA D'ESAME FAC-SIMILE #\n",
    "_Indicazioni e suggerimenti su come rispondere alle varie tipologie di esercizi_"
   ]
  },
  {
   "cell_type": "markdown",
   "metadata": {},
   "source": [
    "<span style=\"color:blue\">__Nota__: le tipologie presenti in questo foglio Jupyter NON sono esaustive, i.e., all'esame potrebbero essercene anche altre o simili; gli argomenti però sono questi (Programmazione Dinamica, Teoria dei Grafi, Modellizzazione e Programmazione Lineare)</span>"
   ]
  },
  {
   "cell_type": "markdown",
   "metadata": {},
   "source": [
    "<h3>Istruzioni:</h3>\n",
    "\n",
    "- Verifica subito di non riscontrare errori eseguendo la cella seguente;\n",
    "\n",
    "- Nella risoluzione degli esercizi troverai già di default delle celle _Raw NB Convert_ (testo semplice non formattato) o anche celle di tipo _Code_ (per programmare in Python); puoi comunque inserirne quante ne vuoi a tuo piacimento, sia _Raw_ sia _Code_ e anche _Markdown_ (se vuoi scrivere del testo e magari renderizzarlo come in LaTeX)."
   ]
  },
  {
   "cell_type": "code",
   "execution_count": 1,
   "metadata": {},
   "outputs": [],
   "source": [
    "from IPython.display import display, Markdown, Latex\n",
    "import os\n",
    "import pulp as p\n",
    "import random\n",
    "import simplesso_interattivo as s\n",
    "import sys"
   ]
  },
  {
   "cell_type": "markdown",
   "metadata": {},
   "source": [
    "## Programmazione Dinamica ##"
   ]
  },
  {
   "cell_type": "markdown",
   "metadata": {},
   "source": [
    "### Esercizio 1a __\\[5 punti\\]__ ###\n",
    "Trovare una sottosequenza comune di lunghezza massima possibile tra le stringhe seguenti:\n",
    "- _s_ = ATTCTCACAATGCTTCTA\n",
    "- _t_ = ACTATCAGTCAACCTAT\n",
    "\n",
    "Fare lo stesso con alcuni suffissi di _s_ e _t_."
   ]
  },
  {
   "cell_type": "markdown",
   "metadata": {},
   "source": [
    "__Nota__: nelle seguenti celle di testo Raw puoi organizzare la/e tua/e tabelle di programmazione dinamica per te funzionali a produrre le risposte da immettere.\n",
    "\n",
    "Puoi anche utilizzare https://www.tablesgenerator.com/markdown_tables per inserire la tua tabella di programmazione dinamica in una cella Markdown."
   ]
  },
  {
   "cell_type": "markdown",
   "metadata": {},
   "source": [
    "__Richieste__:\n",
    "\n",
    "1. __\\[1 pt\\]__ Fornire una sottosequenza comune di lunghezza massima possibile tra _s_ e _t_"
   ]
  },
  {
   "cell_type": "raw",
   "metadata": {},
   "source": []
  },
  {
   "cell_type": "markdown",
   "metadata": {},
   "source": [
    "|   | d | f | f | s |\n",
    "|---|---|---|---|---|\n",
    "| s |   |   |   |   |\n",
    "| t |   |   |   |   |\n",
    "| a |   |   |   |   |"
   ]
  },
  {
   "cell_type": "markdown",
   "metadata": {},
   "source": [
    "2. __\\[1 pt\\]__ E nel caso sia richiesto che la sottosequenza comune incominci con 'C'?"
   ]
  },
  {
   "cell_type": "raw",
   "metadata": {},
   "source": [
    "Come si vede dalla tabella sopra, etc etc"
   ]
  },
  {
   "cell_type": "markdown",
   "metadata": {},
   "source": [
    "3. __\\[1 pt\\]__ E nel caso sia richiesto che la sottosequenza comune incominci con 'G'?"
   ]
  },
  {
   "cell_type": "raw",
   "metadata": {},
   "source": []
  },
  {
   "cell_type": "markdown",
   "metadata": {},
   "source": [
    "4. __\\[1 pt\\]__ Fornire una sottosequenza comune di lunghezza massima possibile tra _s_ e il suo suffisso _t9_ = TCAACCTAT di _t_"
   ]
  },
  {
   "cell_type": "raw",
   "metadata": {},
   "source": []
  },
  {
   "cell_type": "markdown",
   "metadata": {},
   "source": [
    "5. __\\[1 pt\\]__ Fornire una sottosequenza comune di lunghezza massima possibile tra _t_ e il prefisso _s8_ = TGCTTCTA di _s_"
   ]
  },
  {
   "cell_type": "raw",
   "metadata": {},
   "source": []
  },
  {
   "cell_type": "markdown",
   "metadata": {},
   "source": [
    "### Esercizio 1b __\\[4 punti\\]__ ###"
   ]
  },
  {
   "cell_type": "markdown",
   "metadata": {},
   "source": [
    "Data una stringa $s$ = ATTCTCACAATGCTTCTACTC, trovare una sottosequenza palindroma di lunghezza massima possibile."
   ]
  },
  {
   "cell_type": "markdown",
   "metadata": {},
   "source": [
    "__Nota__: nelle seguenti celle di testo Raw puoi organizzare la/e tua/e tabelle di programmazione dinamica per te funzionali a produrre le risposte da immettere.\n",
    "\n",
    "Puoi anche utilizzare https://www.tablesgenerator.com/markdown_tables per inserire la tua tabella di programmazione dinamica in una cella Markdown."
   ]
  },
  {
   "cell_type": "markdown",
   "metadata": {},
   "source": [
    "__Richieste__:\n",
    "\n",
    "1. __\\[1 pt\\]__ Fornire una sottosequenza palindroma di _s_ di lunghezza massima possibile"
   ]
  },
  {
   "cell_type": "raw",
   "metadata": {},
   "source": []
  },
  {
   "cell_type": "markdown",
   "metadata": {},
   "source": [
    "2. __\\[1 pt\\]__ E nel caso sia richiesto che la sottosequenza comune incominci con 'C'?"
   ]
  },
  {
   "cell_type": "raw",
   "metadata": {},
   "source": []
  },
  {
   "cell_type": "markdown",
   "metadata": {},
   "source": [
    "3. __\\[1 pt\\]__ E nel caso sia richiesto che la sottosequenza comune termini con 'A?'"
   ]
  },
  {
   "cell_type": "raw",
   "metadata": {},
   "source": []
  },
  {
   "cell_type": "markdown",
   "metadata": {},
   "source": [
    "4. __\\[1 pt\\]__ Fornire una sottosequenza palindroma dell'intervallo $s[3,19]$ = TCTCACAATGCTTCTAC di lunghezza massima possibile\n"
   ]
  },
  {
   "cell_type": "raw",
   "metadata": {},
   "source": []
  },
  {
   "cell_type": "markdown",
   "metadata": {},
   "source": [
    "__Variante degli esercizi 1a e 1b__: invece di limitarsi a dare una soluzione ottima, calcolare per ogni richiesta quante soluzioni ottime ci siano."
   ]
  },
  {
   "cell_type": "markdown",
   "metadata": {},
   "source": [
    "### Esercizio 2a __\\[4 punti\\]__ ###\n",
    "\n",
    "Un robot R, inizialmente situato nella cella A1, deve portarsi nella sua home H situata nella cella G9.\n",
    "\n",
    "|   | 1 | 2 | 3 | 4 | 5 | 6 | 7 | 8 | 9 |\n",
    "|:-:|:-:|:-:|:-:|:-:|:-:|:-:|:-:|:-:|:-:|\n",
    "| A | R |   |   |   |   |   |   |   | X |\n",
    "| B |   |   | X |   | X | X |   |   |   |\n",
    "| C |   | X |   |   |   |   |   |   |   |\n",
    "| D |   |   | X |   |   | X |   |   |   |\n",
    "| E |   |   |   | X |   |   |   |   |   |\n",
    "| F |   |   | X |   | X |   |   |   |   |\n",
    "| G |   |   |   | X |   |   |   |   | H |\n",
    "\n",
    "I movimenti base possibili sono il passo verso destra (ad esempio dalla cella A4 alla cella A5) ed il passo verso in basso (ad esempio dalla cella A4 alla cella B4). Tuttavia il robot non può visitare le celle occupate da un Pacman (indicate con la X). Quanti sono i percorsi possibili?"
   ]
  },
  {
   "cell_type": "markdown",
   "metadata": {},
   "source": [
    "__Nota__: nelle seguenti celle di testo Raw puoi organizzare la/e tua/e tabelle di programmazione dinamica per te funzionali a produrre le risposte da immettere.\n",
    "\n",
    "Puoi anche utilizzare https://www.tablesgenerator.com/markdown_tables per inserire la tua tabella di programmazione dinamica in una cella Markdown."
   ]
  },
  {
   "cell_type": "markdown",
   "metadata": {},
   "source": [
    "__Richieste__:\n",
    "1. __\\[1 pt\\]__ Quanti sono i percorsi possibili se la partenza è in A1?"
   ]
  },
  {
   "cell_type": "raw",
   "metadata": {},
   "source": []
  },
  {
   "cell_type": "markdown",
   "metadata": {},
   "source": [
    "2. __\\[1 pt\\]__ E se la partenza è in C3?"
   ]
  },
  {
   "cell_type": "raw",
   "metadata": {},
   "source": []
  },
  {
   "cell_type": "markdown",
   "metadata": {},
   "source": [
    "3. __\\[1 pt\\]__ E se con partenza in A1 il robot deve giungere in F6?"
   ]
  },
  {
   "cell_type": "raw",
   "metadata": {},
   "source": []
  },
  {
   "cell_type": "markdown",
   "metadata": {},
   "source": [
    "4. __\\[1 pt\\]__ E se con partenza in A1 e arrivo in G9 al robot viene richiesto di passare per la cella D5?"
   ]
  },
  {
   "cell_type": "raw",
   "metadata": {},
   "source": []
  },
  {
   "cell_type": "markdown",
   "metadata": {},
   "source": [
    "### Esercizio 2b __\\[6 punti\\]__ ###\n",
    "\n",
    "Un robot R, inizialmente situato nella cella A1, deve portarsi nella sua home H situata nella cella G9.\n",
    "Ogni cella senza mina contiene un numero di monetine come rappresentato qui sotto. Quante monetine può raccogliere al massimo il robot?\n",
    "\n",
    "|   | 1 | 2 | 3 | 4 | 5 | 6 | 7 | 8 | 9 |\n",
    "|:-:|:-:|:-:|:-:|:-:|:-:|:-:|:-:|:-:|:-:|\n",
    "| A | R | 2 | 3 | 1 | 1 | 3 | 4 | 7 | X |\n",
    "| B | 2 | 1 | X | 2 | X | X | 7 | 1 | 2 |\n",
    "| C | 4 | X | 2 | 3 | 7 | 1 | 1 | 5 | 4 |\n",
    "| D | 5 | 1 | X | 4 | 5 | X | 9 | 3 | 6 |\n",
    "| E | 1 | 3 | 3 | X | 3 | 1 | 1 | 10| 8 |\n",
    "| F | 1 | 4 | X | 5 | X | 3 | 1 | 8 | 9 |\n",
    "| G | 7 | 5 | 2 | X | 2 | 2 | 3 | 4 | H |\n",
    "\n",
    "I movimenti base possibili sono il passo verso destra (ad esempio dalla cella A4 alla cella A5) ed il passo verso in basso (ad esempio dalla cella A4 alla cella B4). Tuttavia il robot non può visitare le celle occupate da un Pacman (indicate con la X)."
   ]
  },
  {
   "cell_type": "markdown",
   "metadata": {},
   "source": [
    "__Nota__: nelle seguenti celle di testo Raw puoi organizzare la/e tua/e tabelle di programmazione dinamica per te funzionali a produrre le risposte da immettere.\n",
    "\n",
    "Puoi anche utilizzare https://www.tablesgenerator.com/markdown_tables per inserire la tua tabella di programmazione dinamica in una cella Markdown."
   ]
  },
  {
   "cell_type": "markdown",
   "metadata": {},
   "source": [
    "__Richieste__:\n",
    "1. __\\[1 pt\\]__ Quante monetine può raccogliere al massimo il robot, spostandosi dalla sua posizione iniziale A1 fino a H?"
   ]
  },
  {
   "cell_type": "raw",
   "metadata": {},
   "source": []
  },
  {
   "cell_type": "markdown",
   "metadata": {},
   "source": [
    "2. __\\[1 pt\\]__ E se la partenza è in D4?"
   ]
  },
  {
   "cell_type": "raw",
   "metadata": {},
   "source": []
  },
  {
   "cell_type": "markdown",
   "metadata": {},
   "source": [
    "3. __\\[1 pt\\]__ Quante sono le soluzioni ottime con partenza in D4?"
   ]
  },
  {
   "cell_type": "raw",
   "metadata": {},
   "source": []
  },
  {
   "cell_type": "markdown",
   "metadata": {},
   "source": [
    "4. __\\[1 pt\\]__ E se con partenza in A1 il robot deve giungere in F7, quante monetine può raccogliere al massimo?"
   ]
  },
  {
   "cell_type": "raw",
   "metadata": {},
   "source": []
  },
  {
   "cell_type": "markdown",
   "metadata": {},
   "source": [
    "5. __\\[1 pt\\]__ Quante sono le soluzioni ottime con arrivo in F7?"
   ]
  },
  {
   "cell_type": "raw",
   "metadata": {},
   "source": []
  },
  {
   "cell_type": "markdown",
   "metadata": {},
   "source": [
    "6. __\\[1 pt\\]__ E se con partenza in A1 e arrivo in G9 al robot viene richiesto di passare per la cella D4, quante monetine può raccogliere al massimo?"
   ]
  },
  {
   "cell_type": "raw",
   "metadata": {},
   "source": []
  },
  {
   "cell_type": "markdown",
   "metadata": {},
   "source": [
    "### Esercizio 3 __\\[6 punti\\]__ ###\n",
    "\n",
    "Si consideri la seguente sequenza di numeri naturali:<br>\n",
    "1 14 8 2 4 21 28 48 5 26 49 9 32 19 12 46 10 7 3 25 11 6 29 39 44 13"
   ]
  },
  {
   "cell_type": "markdown",
   "metadata": {},
   "source": [
    "__Nota__: nelle seguenti celle di testo Raw puoi organizzare la/e tua/e tabelle di programmazione dinamica per te funzionali a produrre le risposte da immettere.\n",
    "\n",
    "Puoi anche utilizzare https://www.tablesgenerator.com/markdown_tables per inserire la tua tabella di programmazione dinamica in una cella Markdown."
   ]
  },
  {
   "cell_type": "markdown",
   "metadata": {},
   "source": [
    "__Richieste__:\n",
    "1. __\\[1 pt\\]__ Trovare una sottosequenza crescente che sia la più lunga possibile"
   ]
  },
  {
   "cell_type": "raw",
   "metadata": {},
   "source": []
  },
  {
   "cell_type": "markdown",
   "metadata": {},
   "source": [
    "2. __\\[1 pt\\]__ Trovare una sottosequenza decrescente che sia la più lunga possibile"
   ]
  },
  {
   "cell_type": "raw",
   "metadata": {},
   "source": []
  },
  {
   "cell_type": "markdown",
   "metadata": {},
   "source": [
    "3. __\\[1 pt\\]__ Trovare la più lunga sottosequenza crescente che includa l'elemento di valore 7"
   ]
  },
  {
   "cell_type": "raw",
   "metadata": {},
   "source": []
  },
  {
   "cell_type": "markdown",
   "metadata": {},
   "source": [
    "4. __\\[1 pt\\]__ Una sequenza è detta una _V-sequenza_ se cala fino ad un certo punto, e da lì in poi cresce sempre. Trovare la più lunga V-sequenza che sia una sottosequenza della sequenza data."
   ]
  },
  {
   "cell_type": "raw",
   "metadata": {},
   "source": []
  },
  {
   "cell_type": "markdown",
   "metadata": {},
   "source": [
    "5. __\\[2 pt\\]__ Qual è il minor numero possibile di colori _C_ per colorare gli elementi della sequenza in input in modo che, per ogni colore, la sottosequenza degli elementi di quel colore sia monotona non crescente? Specificare per ogni elemento il colore (come colori, usare i numeri da 1 a _C_)"
   ]
  },
  {
   "cell_type": "code",
   "execution_count": null,
   "metadata": {},
   "outputs": [],
   "source": []
  },
  {
   "cell_type": "markdown",
   "metadata": {},
   "source": [
    "## Teoria dei Grafi ##"
   ]
  },
  {
   "cell_type": "markdown",
   "metadata": {},
   "source": [
    "### Esercizio 4a \\[2 punti\\] ###\n",
    "\n",
    "Si consideri il grafo $G$ riportato in figura:\n",
    "<img src='images/grafo_plan.png' width=600>"
   ]
  },
  {
   "cell_type": "markdown",
   "metadata": {},
   "source": [
    "__Nota__: nelle seguenti celle di testo Raw puoi organizzarti come preferisci per produrre le risposte da immettere.\n",
    "\n",
    "Sito utile per disegnare il grafo e manipolare nodi e lati: https://www.nctm.org/Classroom-Resources/Illuminations/Interactives/Graph-Creator/"
   ]
  },
  {
   "cell_type": "markdown",
   "metadata": {},
   "source": [
    "__Richieste__:\n",
    "\n",
    "1. __\\[2 pt\\]__ Dire se il grafo sia planare oppure no, fornendo un certificato"
   ]
  },
  {
   "cell_type": "raw",
   "metadata": {},
   "source": []
  },
  {
   "cell_type": "markdown",
   "metadata": {},
   "source": [
    "### Esercizio 4b \\[4 punti\\] ###\n",
    "\n",
    "Si consideri il grafo $G$ riportato in figura:\n",
    "<img src='images/grafo_plan1_no_pesi.png' width=800>"
   ]
  },
  {
   "cell_type": "markdown",
   "metadata": {},
   "source": [
    "__Nota__: nelle seguenti celle di testo Raw puoi organizzarti come preferisci per produrre le risposte da immettere.\n",
    "\n",
    "Sito utile per disegnare il grafo e manipolare nodi e lati: https://www.nctm.org/Classroom-Resources/Illuminations/Interactives/Graph-Creator/"
   ]
  },
  {
   "cell_type": "markdown",
   "metadata": {},
   "source": [
    "__Richieste__:\n",
    "\n",
    "1. __\\[2 pt\\]__ Rimuovere il minimo numero di archi in modo da ottenere un grafo planare $G'$"
   ]
  },
  {
   "cell_type": "raw",
   "metadata": {},
   "source": []
  },
  {
   "cell_type": "markdown",
   "metadata": {},
   "source": [
    "2. __\\[1 pt\\]__ Fornire un planar embedding di $G'$"
   ]
  },
  {
   "cell_type": "markdown",
   "metadata": {},
   "source": [
    "<span style=\"color:blue\">Per esempio, potreste usare il sito indicato per disegnare un planar embedding; l'immagine dovrebbe poi essere salvata nella cartella allegati/ , che trovate dove avete salvato questo foglio. Così poi potreste aggiungerla in una cella Markdown copiando il seguente codice:</span>"
   ]
  },
  {
   "cell_type": "raw",
   "metadata": {},
   "source": [
    "<img src='allegati/NOMEFILE.ESTENSIONE' width=600> (o un altro numero per mostrare l'immagine più o meno ampia)"
   ]
  },
  {
   "cell_type": "raw",
   "metadata": {},
   "source": []
  },
  {
   "cell_type": "markdown",
   "metadata": {},
   "source": [
    "3. __\\[1 pt\\]__ Fornire argomenti in supporto del fatto che il numero di archi che hai rimosso sia il più piccolo possibile"
   ]
  },
  {
   "cell_type": "raw",
   "metadata": {},
   "source": []
  },
  {
   "cell_type": "markdown",
   "metadata": {},
   "source": [
    "### Esercizio 5 __\\[9 punti\\]__ ###\n",
    "\n",
    "Si consideri il grafo $G$, con pesi sugli archi, riportato in figura:\n",
    "<img src='images/grafo_plan1_pesi.png' width=800>"
   ]
  },
  {
   "cell_type": "markdown",
   "metadata": {},
   "source": [
    "__Nota__: nelle seguenti celle di testo Raw puoi organizzarti come preferisci per produrre le risposte da immettere.\n",
    "\n",
    "Puoi anche utilizzare https://www.tablesgenerator.com/markdown_tables per inserire eventuali tabelle in una cella Markdown."
   ]
  },
  {
   "cell_type": "markdown",
   "metadata": {},
   "source": [
    "__Richieste__:\n",
    "1. __\\[1 pt\\]__ Calcolare la distanza di $x$ da $s$"
   ]
  },
  {
   "cell_type": "markdown",
   "metadata": {},
   "source": [
    "<span style=\"color:blue\">Potete mettere in una cella Markdown la tabella compilata usando l'algoritmo di Dijkstra, generata inserendo i dati qui https://www.tablesgenerator.com/markdown_tables</span>"
   ]
  },
  {
   "cell_type": "raw",
   "metadata": {},
   "source": []
  },
  {
   "cell_type": "markdown",
   "metadata": {},
   "source": [
    "2. __\\[1 pt\\]__ Fornire le distanze di ciascun nodo da $s$"
   ]
  },
  {
   "cell_type": "raw",
   "metadata": {},
   "source": []
  },
  {
   "cell_type": "markdown",
   "metadata": {},
   "source": [
    "3. __\\[1 pt\\]__ Fornire un cammino minimo da $s$ a $x$"
   ]
  },
  {
   "cell_type": "raw",
   "metadata": {},
   "source": []
  },
  {
   "cell_type": "markdown",
   "metadata": {},
   "source": [
    "4. __\\[1 pt\\]__ Fornire un albero dei cammini minimi dal nodo $s$ a tutti gli altri nodi del grafo"
   ]
  },
  {
   "cell_type": "markdown",
   "metadata": {},
   "source": [
    "<span style=\"color:blue\">Per esempio, potreste usare il sito https://www.nctm.org/Classroom-Resources/Illuminations/Interactives/Graph-Creator/ per disegnare un albero dei cammini minimi; l'immagine dovrebbe poi essere salvata nella cartella allegati/ , che trovate dove avete salvato questo foglio. Così poi potreste aggiungerla in una cella Markdown copiando il seguente codice:</span>"
   ]
  },
  {
   "cell_type": "raw",
   "metadata": {},
   "source": [
    "<img src='allegati/NOMEFILE.ESTENSIONE' width=600> (o un altro numero per mostrare l'immagine più o meno ampia)"
   ]
  },
  {
   "cell_type": "raw",
   "metadata": {},
   "source": []
  },
  {
   "cell_type": "markdown",
   "metadata": {},
   "source": [
    "5. __\\[2 pt\\]__ Specificare quanti siano i possibili alberi dei cammini minimi dal nodo $s$ a tutti gli altri nodi del grafo"
   ]
  },
  {
   "cell_type": "raw",
   "metadata": {},
   "source": []
  },
  {
   "cell_type": "markdown",
   "metadata": {},
   "source": [
    "6. __\\[3 pt\\]__ Descrivere in modo chiaro e conciso la struttura della famiglia degli alberi dei cammini minimi"
   ]
  },
  {
   "cell_type": "markdown",
   "metadata": {},
   "source": [
    "### Esercizio 6 __\\[10 punti\\]__ ###\n",
    "\n",
    "Si consideri il grafo $G$, con pesi sugli archi, riportato in figura:\n",
    "<img src='images/grafo_plan1_pesi.png' width=800>"
   ]
  },
  {
   "cell_type": "markdown",
   "metadata": {},
   "source": [
    "__Nota__: nelle seguenti celle di testo Raw puoi organizzarti come preferisci per produrre le risposte da immettere."
   ]
  },
  {
   "cell_type": "markdown",
   "metadata": {},
   "source": [
    "__Richieste__:\n",
    "1. __\\[1 pt\\]__ Fornire un albero ricoprente di peso minimo"
   ]
  },
  {
   "cell_type": "markdown",
   "metadata": {},
   "source": [
    "<span style=\"color:blue\">Qui potete inserire la lista di lati ordinati secondo l'algoritmo di Kruskal/Prim, indicando quali avete inserito in soluzione e quali no, e perché.</span>"
   ]
  },
  {
   "cell_type": "markdown",
   "metadata": {},
   "source": [
    "<span style=\"color:blue\">Per esempio, potreste usare il sito https://www.nctm.org/Classroom-Resources/Illuminations/Interactives/Graph-Creator/ per disegnare l'albero ricoprente di peso minimo; l'immagine dovrebbe poi essere salvata nella cartella allegati/ , che trovate dove avete salvato questo foglio. Così poi potreste aggiungerla in una cella Markdown copiando il seguente codice:</span>"
   ]
  },
  {
   "cell_type": "raw",
   "metadata": {},
   "source": []
  },
  {
   "cell_type": "markdown",
   "metadata": {},
   "source": [
    "2. __\\[1 pt\\]__ Specificare quanti siano gli alberi ricoprenti di peso minimo"
   ]
  },
  {
   "cell_type": "raw",
   "metadata": {},
   "source": []
  },
  {
   "cell_type": "markdown",
   "metadata": {},
   "source": [
    "3. __\\[3 pt\\]__ Descrivere in modo chiaro e conciso la struttura della famiglia degli alberi ricoprenti di peso minimo"
   ]
  },
  {
   "cell_type": "raw",
   "metadata": {},
   "source": []
  },
  {
   "cell_type": "markdown",
   "metadata": {},
   "source": [
    "4. __\\[5 pt\\]__ Per ciascuno dei seguenti archi dire, certificandolo, se esso appartenga a tutti, oppure a nessuno, oppure a qualcuno ma non tutti gli alberi ricoprenti di peso minimo: $fg$, $on$, $qp$"
   ]
  },
  {
   "cell_type": "raw",
   "metadata": {},
   "source": []
  },
  {
   "cell_type": "markdown",
   "metadata": {},
   "source": [
    "### Esercizio 7 __\\[15 punti\\]__ ###\n",
    "\n",
    "Si consideri il grafo $G$, con pesi sugli archi, riportato in figura:\n",
    "<img src='images/grafo_plan1_pesi.png' width=800>"
   ]
  },
  {
   "cell_type": "markdown",
   "metadata": {},
   "source": [
    "__Nota__: nelle seguenti celle di testo Raw puoi organizzarti come preferisci per produrre le risposte da immettere."
   ]
  },
  {
   "cell_type": "markdown",
   "metadata": {},
   "source": [
    "__Richieste__:\n",
    "1. __\\[5 pt\\]__ Fornire un massimo flusso dal nodo $s$ al nodo $t$"
   ]
  },
  {
   "cell_type": "markdown",
   "metadata": {},
   "source": [
    "<span style=\"color:blue\">Potete indicare, per ogni arco, la quantità di flusso che vi passa attraverso rispetto alla capacità dell'arco stesso.<br>\n",
    "Esempio:<br>\n",
    "    ab: 4/5</span>"
   ]
  },
  {
   "cell_type": "raw",
   "metadata": {},
   "source": []
  },
  {
   "cell_type": "markdown",
   "metadata": {},
   "source": [
    "2. __\\[5 pt\\]__ Certificare l'ottimalità del flusso massimo dal nodo $s$ al nodo $t$"
   ]
  },
  {
   "cell_type": "raw",
   "metadata": {},
   "source": []
  },
  {
   "cell_type": "markdown",
   "metadata": {},
   "source": [
    "3. __\\[5 pt\\]__ Per ciascuno dei seguenti tre archi dire, certificandolo, se esso appartenga a tutti, oppure a nessuno, oppure a qualcuno ma non tutti gli $s,t$-tagli di capacità minima: $ab$, $ih$, $uz$"
   ]
  },
  {
   "cell_type": "markdown",
   "metadata": {},
   "source": [
    "## Modellizzazione e uso di solver ##"
   ]
  },
  {
   "cell_type": "markdown",
   "metadata": {},
   "source": [
    "### Esercizio 8 __\\[10 punti\\]__ ###\n",
    "\n",
    "La Loamed e un'azienda che produce snack. La disponibilità di materie prime, alla fine di gennaio, è la seguente:\n",
    "550 kg di arachidi, 150 kg di pistacchi, 90 kg di mandorle e 70 kg di nocciole. Ogni scatola contiene 500 grammi di prodotto. La Loamed produce quattro tipi di snack, descritti di seguito:\n",
    "\n",
    "| Prodotto |                                   Composizione                                   | Profitto (euro/scatola) |\n",
    "|:--------:|:--------------------------------------------------------------------------------:|:-----------------------:|\n",
    "|    Mem   |                                   solo arachidi                                  |           1.20          |\n",
    "|    Num   | non più del 50% di arachidi<br>almeno il 10% di mandorle<br>almeno il 15% di pistacchi |           2,50          |\n",
    "|    Pem   |                                  solo pistacchi                                  |           3.50          |\n",
    "|    Qof   |  almeno il 30% di pistacchi<br>almeno il 20% di mandorle<br>almeno il 30% di nocciole  |           3.00          |"
   ]
  },
  {
   "cell_type": "markdown",
   "metadata": {},
   "source": [
    "__Nota__: nelle seguenti celle di testo Raw puoi organizzarti come preferisci per produrre le risposte da immettere."
   ]
  },
  {
   "cell_type": "markdown",
   "metadata": {},
   "source": [
    "__Richieste__:\n",
    "1. __\\[3 pt\\]__ Supponendo che tutto quanto prodotto venga venduto, formulare come problema di Programmazione Lineare il problema di massimizzare il profitto della Loamed, motivando le scelte compiute in una cella Markdown o Raw"
   ]
  },
  {
   "cell_type": "markdown",
   "metadata": {},
   "source": [
    "<span style=\"color:blue\">Qui vi è richiesto di formulare il problema, cioè di dire quali tipologie di variabili scegliete, quali vincoli ci sono, qual è la funzione obiettivo; il tutto, descrivendolo a parole (anche schematicamente).</span>"
   ]
  },
  {
   "cell_type": "raw",
   "metadata": {},
   "source": []
  },
  {
   "cell_type": "markdown",
   "metadata": {},
   "source": [
    "2. __\\[5 pt\\]__ Risolvere il problema sfruttando la libreria Pulp"
   ]
  },
  {
   "cell_type": "markdown",
   "metadata": {},
   "source": [
    "<span style=\"color:blue\">Qui di seguito trovate invece una cella di tipo Code: per ottenere i 5 punti, dovrete risolvere il problema come visto a esercitazione, utilizzando Pulp per modellare e risolvere il problema.</span>"
   ]
  },
  {
   "cell_type": "code",
   "execution_count": null,
   "metadata": {},
   "outputs": [],
   "source": [
    "# Creiamo un problema di PL\n",
    "probLP = p.LpProblem('Loamed', p.LpMaximize)  \n",
    "  \n",
    "# etc..."
   ]
  },
  {
   "cell_type": "markdown",
   "metadata": {},
   "source": [
    "3. __\\[2 pt\\]__ Indicare dove l’eventuale aggiunta di qualche vincolo di interezza possa lievemente aumentare la precisione del modello"
   ]
  },
  {
   "cell_type": "raw",
   "metadata": {},
   "source": []
  },
  {
   "cell_type": "markdown",
   "metadata": {},
   "source": [
    "## Programmazione Lineare ##"
   ]
  },
  {
   "cell_type": "markdown",
   "metadata": {},
   "source": [
    "### Esercizio 9 __\\[11 punti\\]__ ###\n",
    "\n",
    "Si consideri il seguente problema di Programmazione Lineare:\n",
    "\n",
    "max $6x_1 - 5x_2 - 3x_3 - 4x_4$\n",
    "\n",
    "tale che:\n",
    "\n",
    "\n",
    "$4x_1 + 5x_2 - 3x_3 + x4 \\le 5$\n",
    "\n",
    "$2x_1 - 5x_2 + x3 - x4 \\le -5$\n",
    "\n",
    "$2x_1 - x_2 + 2x_3 - x_4 \\le 4$\n",
    "\n",
    "$x_1, x_2, x_3, x_4 \\ge 0$"
   ]
  },
  {
   "cell_type": "markdown",
   "metadata": {},
   "source": [
    "__Nota__: nelle seguenti celle di testo Raw puoi organizzarti come preferisci per produrre le risposte da immettere.\n",
    "\n",
    "Puoi sfruttare https://www.tablesgenerator.com/markdown_tables per inserire i tuoi tableau in delle celle _Markdown_ ma puoi anche sfruttare la libreria _simplesso_interattivo_ per definire i tuoi problemi e stamparli in una cella di tipo _Code_"
   ]
  },
  {
   "cell_type": "markdown",
   "metadata": {},
   "source": [
    "__Richieste__:\n",
    "1. __\\[1 pt\\]__ Impostare il problema ausiliario"
   ]
  },
  {
   "cell_type": "code",
   "execution_count": null,
   "metadata": {},
   "outputs": [],
   "source": []
  },
  {
   "cell_type": "markdown",
   "metadata": {},
   "source": [
    "2. __\\[3 pt\\]__ Risolvere il problema ausiliario per ottenere una soluzione ammissibile di base al problema originario"
   ]
  },
  {
   "cell_type": "raw",
   "metadata": {},
   "source": []
  },
  {
   "cell_type": "markdown",
   "metadata": {},
   "source": [
    "3. __\\[1 pt\\]__ Dalla soluzione ottima del problema ausiliario, ricavare un tableau che esprima una soluzione di base ammissibile per il problema originario"
   ]
  },
  {
   "cell_type": "raw",
   "metadata": {},
   "source": []
  },
  {
   "cell_type": "markdown",
   "metadata": {},
   "source": [
    "4. __\\[3 pt\\]__ Risolvere il problema originario all'ottimo"
   ]
  },
  {
   "cell_type": "raw",
   "metadata": {},
   "source": []
  },
  {
   "cell_type": "markdown",
   "metadata": {},
   "source": [
    "5. __\\[1 pt\\]__ Quanto si sarebbe disposti a pagare per ogni unità di incremento per l'availability nei tre vincoli per piccole variazioni?"
   ]
  },
  {
   "cell_type": "raw",
   "metadata": {},
   "source": []
  },
  {
   "cell_type": "markdown",
   "metadata": {},
   "source": [
    "6. __\\[2 pt\\]__ Fino a dove si sarebbe disposti a pagare tali prezzi ombra?"
   ]
  },
  {
   "cell_type": "raw",
   "metadata": {},
   "source": []
  },
  {
   "cell_type": "markdown",
   "metadata": {},
   "source": [
    "### Esercizio 10 __\\[6 punti\\]__ ###\n",
    "\n",
    "Si consideri la soluzione $x_3 = x_6 = 0, x_1 = 6, x_2 = 5, x_4 = 10, x_5 = 14$ del seguente problema:\n",
    "\n",
    "max $x_1 + 6x_2 + C_3x_3 + 11x_4 + 5x_5 + C_6x_6$\n",
    "\n",
    "tale che:\n",
    "\n",
    "$x_1 + x_2 + x_3 \\le 12$\n",
    "\n",
    "$x_3 + x_4 + x_6 \\le 10$\n",
    "\n",
    "$x_5 + x_6 \\le 14$\n",
    "\n",
    "$x_1 + 2_x3 + x_5 + 2x_6 \\le 20$\n",
    "\n",
    "$x_2 + x_4 + x_6 \\le 15$\n",
    "\n",
    "$x_1, x_2, x_3, x_4, x_5, x_6 \\ge 0$"
   ]
  },
  {
   "cell_type": "markdown",
   "metadata": {},
   "source": [
    "__Nota__: nelle seguenti celle di testo Raw puoi organizzarti come preferisci per produrre le risposte da immettere."
   ]
  },
  {
   "cell_type": "markdown",
   "metadata": {},
   "source": [
    "__Richieste__:\n",
    "1. __\\[1 pt\\]__ Verificare esplicitamente che la soluzione proposta sia ammissibile"
   ]
  },
  {
   "cell_type": "raw",
   "metadata": {},
   "source": []
  },
  {
   "cell_type": "markdown",
   "metadata": {},
   "source": [
    "2. __\\[1 pt \\]__ Scrivere il problema duale"
   ]
  },
  {
   "cell_type": "raw",
   "metadata": {},
   "source": []
  },
  {
   "cell_type": "markdown",
   "metadata": {},
   "source": [
    "3. __\\[1 pt\\]__ Impostare il sistema che esprima le condizioni agli scarti complementari"
   ]
  },
  {
   "cell_type": "raw",
   "metadata": {},
   "source": []
  },
  {
   "cell_type": "markdown",
   "metadata": {},
   "source": [
    "4. __\\[1 pt\\]__ Risolvere il sistema per trovare una soluzione duale complementare alla soluzione primale fornita"
   ]
  },
  {
   "cell_type": "raw",
   "metadata": {},
   "source": []
  },
  {
   "cell_type": "markdown",
   "metadata": {},
   "source": [
    "5. __\\[2 pt\\]__ Per quali valori dei parametri $C_3$ e $C_6$ la soluzione assegnata è ottima? Indicare con chiarezza tutte le verifiche che sei stato chiamato a compiere"
   ]
  },
  {
   "cell_type": "raw",
   "metadata": {},
   "source": []
  },
  {
   "cell_type": "markdown",
   "metadata": {},
   "source": [
    "### Esercizio 11 __\\[8 punti\\]__ ###\n",
    "\n",
    "Si consideri il seguente problema di Programmazione Lineare:\n",
    "\n",
    "max $3x_1 + 2x_2 + 4x_3$\n",
    "\n",
    "tale che:\n",
    "\n",
    "$2x_1 + 7x_2 \\le 12$\n",
    "\n",
    "$x_1 + 7x_2 + 8x_3 \\le 24$\n",
    "\n",
    "$x_1 + 2x_2 + 12x_3 \\le 17$\n",
    "\n",
    "$x_1, x_2, x_3 \\ge 0$"
   ]
  },
  {
   "cell_type": "markdown",
   "metadata": {},
   "source": [
    "__Nota__: nelle seguenti celle di testo Raw puoi organizzarti come preferisci per produrre le risposte da immettere."
   ]
  },
  {
   "cell_type": "markdown",
   "metadata": {},
   "source": [
    "__Richieste__:\n",
    "1. __\\[1 pt\\]__ Sfruttando la libreria simplesso_interattivo.py, creare il primo tableau"
   ]
  },
  {
   "cell_type": "code",
   "execution_count": null,
   "metadata": {},
   "outputs": [],
   "source": []
  },
  {
   "cell_type": "markdown",
   "metadata": {},
   "source": [
    "2. __\\[1 pt\\]__ Scrivere il vettore dei coefficienti di costo ridotto dopo la prima iterazione"
   ]
  },
  {
   "cell_type": "raw",
   "metadata": {},
   "source": []
  },
  {
   "cell_type": "markdown",
   "metadata": {},
   "source": [
    "3. __\\[3 pt\\]__ Risolvere il problema sfruttando la libreria simplesso_interattivo.py, indicando la soluzione primale estesa ottima e il valore della funzione obiettivo"
   ]
  },
  {
   "cell_type": "raw",
   "metadata": {},
   "source": []
  },
  {
   "cell_type": "markdown",
   "metadata": {},
   "source": [
    "4. __\\[1 pt\\]__ Indicare la soluzione duale estesa ottima e il valore della funzione obiettivo"
   ]
  },
  {
   "cell_type": "raw",
   "metadata": {},
   "source": []
  },
  {
   "cell_type": "markdown",
   "metadata": {},
   "source": [
    "5. __\\[2 pt\\]__ Alla luce della teoria, motivare le risposte date ai punti 3 e 4 e i valori delle soluzioni ottenute"
   ]
  },
  {
   "cell_type": "raw",
   "metadata": {},
   "source": []
  },
  {
   "cell_type": "markdown",
   "metadata": {},
   "source": [
    "## NOTE FINALI ##\n",
    "\n",
    "1. Se avete inserito immagini nella cartella allegati/, controllate che le celle Markdown corrispondenti funzionino correttamente;\n",
    "2. Una volta che avete completato l'esame / volete consegnare e siete sicuri, salvate questo foglio e chiudete Jupyter-Notebook;\n",
    "3. Create un archivio .zip della cartella che avete scaricato, aggiungendo la vostra matricola alla fine del nome (i.e., test_yyyy-mm-d_VRXXXXXX.zip);\n",
    "4. Caricate l'archivio .zip dove vi indicheremo, su Moodle o su GitHub (tranquilli, faremo una simulazione qualche giorno prima dell'esame)."
   ]
  },
  {
   "cell_type": "code",
   "execution_count": null,
   "metadata": {},
   "outputs": [],
   "source": []
  }
 ],
 "metadata": {
  "kernelspec": {
   "display_name": "Python 3",
   "language": "python",
   "name": "python3"
  },
  "language_info": {
   "codemirror_mode": {
    "name": "ipython",
    "version": 3
   },
   "file_extension": ".py",
   "mimetype": "text/x-python",
   "name": "python",
   "nbconvert_exporter": "python",
   "pygments_lexer": "ipython3",
   "version": "3.7.6"
  }
 },
 "nbformat": 4,
 "nbformat_minor": 4
}
