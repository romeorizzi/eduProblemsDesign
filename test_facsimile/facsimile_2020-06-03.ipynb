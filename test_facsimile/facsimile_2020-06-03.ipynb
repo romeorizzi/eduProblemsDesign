{
 "cells": [
  {
   "cell_type": "markdown",
   "metadata": {},
   "source": [
    "# RICERCA OPERATIVA - TEMA D'ESAME FAC-SIMILE #\n",
    "\n",
    "<h3>Istruzioni:</h3>\n",
    "\n",
    "- Verifica subito di non riscontrare errori eseguendo la cella seguente;\n",
    "\n",
    "- Nella risoluzione degli esercizi, se non specificato puntualmente di usare una certa tipologia di cella, puoi usare celle a tuo piacimento di tipo _Code_ (se vuoi programmare qualcosa in Python), _Markdown_ (se vuoi scrivere del testo e magari renderizzarlo anche in LaTeX) o _Raw NB Convert_ (se vuoi scrivere del testo semplice)."
   ]
  },
  {
   "cell_type": "code",
   "execution_count": 1,
   "metadata": {},
   "outputs": [],
   "source": [
    "from IPython.display import display, Markdown, Latex\n",
    "import os\n",
    "import pulp as p\n",
    "import random\n",
    "import simplesso_interattivo as s\n",
    "import sys"
   ]
  },
  {
   "cell_type": "markdown",
   "metadata": {},
   "source": [
    "## Programmazione Dinamica ##"
   ]
  },
  {
   "cell_type": "markdown",
   "metadata": {},
   "source": [
    "### Esercizio 1 __\\[4 punti\\]__ ###\n",
    "Trovare la più lunga sottosequenza comune tra le stringhe seguenti:\n",
    "- _s_ = ATTCTCACAATGCTTCTA\n",
    "- _t_ = ACTATCAGTCAACCTAT\n",
    "\n",
    "Fare lo stesso con alcuni suffissi di _s_ e _t_."
   ]
  },
  {
   "cell_type": "markdown",
   "metadata": {},
   "source": [
    "__Richieste__:\n",
    "\n",
    "1. __\\[1 pt\\]__ Qual è la più lunga sottosequenza comune tra _s_ e _t_?"
   ]
  },
  {
   "cell_type": "raw",
   "metadata": {},
   "source": []
  },
  {
   "cell_type": "markdown",
   "metadata": {},
   "source": [
    "2. __\\[1 pt\\]__ E nel caso sia richiesto che la sottosequenza comune incominci con 'C'?"
   ]
  },
  {
   "cell_type": "raw",
   "metadata": {},
   "source": []
  },
  {
   "cell_type": "markdown",
   "metadata": {},
   "source": [
    "3. __\\[1 pt\\]__ E nel caso sia richiesto che la sottosequenza comune incominci con 'G'?"
   ]
  },
  {
   "cell_type": "raw",
   "metadata": {},
   "source": []
  },
  {
   "cell_type": "markdown",
   "metadata": {},
   "source": [
    "4. __\\[1 pt\\]__ Qual è la più lunga sottosequenza comune tra _s_ e il suo suffisso _t9_ = TCAACCTAT di _t_?"
   ]
  },
  {
   "cell_type": "raw",
   "metadata": {},
   "source": []
  },
  {
   "cell_type": "markdown",
   "metadata": {},
   "source": [
    "5. __\\[1 pt\\]__ Qual è la più lunga sottosequenza comune tra _t_ e il prefisso _s8_ = TGCTTCTA di _s_?"
   ]
  },
  {
   "cell_type": "raw",
   "metadata": {},
   "source": []
  },
  {
   "cell_type": "markdown",
   "metadata": {},
   "source": [
    "### Esercizio 2 __\\[5 punti\\]__ ###\n",
    "\n",
    "Un robot R, inizialmente situato nella cella A1, deve portarsi nella sua home H situata nella cella G9.\n",
    "\n",
    "|   | 1 | 2 | 3 | 4 | 5 | 6 | 7 | 8 | 9 |\n",
    "|:-:|:-:|:-:|:-:|:-:|:-:|:-:|:-:|:-:|:-:|\n",
    "| A | R |   |   |   |   |   |   |   | X |\n",
    "| B |   |   | X |   | X | X |   |   |   |\n",
    "| C |   | X |   |   |   |   |   |   |   |\n",
    "| D |   |   | X |   |   | X |   |   |   |\n",
    "| E |   |   |   | X |   |   |   |   |   |\n",
    "| F |   |   | X |   | X |   |   |   |   |\n",
    "| G |   |   |   | X |   |   |   |   | H |\n",
    "\n",
    "I movimenti base possibili sono il passo verso destra (ad esempio dalla cella A4 alla cella A5) ed il passo verso in basso (ad esempio dalla cella A4 alla cella B4). Tuttavia il robot non può visitare le celle occupate da un Pacman (indicate con la X). Quanti sono i percorsi possibili?"
   ]
  },
  {
   "cell_type": "markdown",
   "metadata": {},
   "source": [
    "__Richieste__:\n",
    "1. __\\[1 pt\\]__ Quanti sono i percorsi possibili se la partenza è in A1?"
   ]
  },
  {
   "cell_type": "raw",
   "metadata": {},
   "source": []
  },
  {
   "cell_type": "markdown",
   "metadata": {},
   "source": [
    "2. __\\[1 pt\\]__ E se la partenza è in C3?"
   ]
  },
  {
   "cell_type": "raw",
   "metadata": {},
   "source": []
  },
  {
   "cell_type": "markdown",
   "metadata": {},
   "source": [
    "3. __\\[1 pt\\]__ E se con partenza in A1 il robot deve giungere in F6?"
   ]
  },
  {
   "cell_type": "raw",
   "metadata": {},
   "source": []
  },
  {
   "cell_type": "markdown",
   "metadata": {},
   "source": [
    "4. __\\[1 pt\\]__ E se con partenza in A1 e arrivo in G9 al robot viene richiesto di passare per la cella D5?"
   ]
  },
  {
   "cell_type": "raw",
   "metadata": {},
   "source": []
  },
  {
   "cell_type": "markdown",
   "metadata": {},
   "source": [
    "5. __\\[1 pt\\]__ Ogni cella senza mina contiene un numero di monetine come rappresentato qui sotto. Quante monetine può raccogliere al massimo il robot?\n",
    "\n",
    "|   | 1 | 2 | 3 | 4 | 5 | 6 | 7 | 8 | 9 |\n",
    "|:-:|:-:|:-:|:-:|:-:|:-:|:-:|:-:|:-:|:-:|\n",
    "| A | R | 2 | 3 | 1 | 1 | 3 | 4 | 7 | X |\n",
    "| B | 2 | 1 | X | 2 | X | X | 7 | 1 | 2 |\n",
    "| C | 4 | X | 2 | 3 | 7 | 1 | 1 | 5 | 4 |\n",
    "| D | 5 | 1 | X | 4 | 5 | X | 9 | 3 | 6 |\n",
    "| E | 1 | 3 | 3 | X | 3 | 1 | 1 | 10| 8 |\n",
    "| F | 1 | 4 | X | 5 | X | 3 | 1 | 8 | 9 |\n",
    "| G | 7 | 5 | 2 | X | 2 | 2 | 3 | 4 | H |"
   ]
  },
  {
   "cell_type": "markdown",
   "metadata": {},
   "source": [
    "### Esercizio 3 __\\[4 punti\\]__ ###\n",
    "\n",
    "Si consideri la seguente sequenza di numeri naturali:<br>\n",
    "1 14 8 2 4 21 28 48 5 26 49 9 32 19 12 46 10 7 3 25 11 6 29 39 44 13"
   ]
  },
  {
   "cell_type": "markdown",
   "metadata": {},
   "source": [
    "__Richieste__:\n",
    "1. __\\[1 pt\\]__ Trovare una sottosequenza crescente che sia la più lunga possibile"
   ]
  },
  {
   "cell_type": "raw",
   "metadata": {},
   "source": []
  },
  {
   "cell_type": "markdown",
   "metadata": {},
   "source": [
    "2. __\\[1 pt\\]__ Trovare una sottosequenza decrescente che sia la più lunga possibile"
   ]
  },
  {
   "cell_type": "raw",
   "metadata": {},
   "source": []
  },
  {
   "cell_type": "markdown",
   "metadata": {},
   "source": [
    "3. __\\[1 pt\\]__ Una sequenza è detta una _V-sequenza_ se cala fino ad un certo punto, e da lì in poi cresce sempre. Trovare la più lunga V-sequenza che sia una sottosequenza della sequenza data."
   ]
  },
  {
   "cell_type": "raw",
   "metadata": {},
   "source": []
  },
  {
   "cell_type": "markdown",
   "metadata": {},
   "source": [
    "4. __\\[1 pt\\]__ Trovare la più lunga sottosequenza crescente che includa l'elemento di valore 7."
   ]
  },
  {
   "cell_type": "raw",
   "metadata": {},
   "source": []
  },
  {
   "cell_type": "markdown",
   "metadata": {},
   "source": [
    "5. __\\[2 pt\\]__ Qual è il minor numero possibile di colori per colorare gli elementi della sequenza in input in modo che per ogni colore, la sottosequenza degli elementi di quel colore sia monotona non crescente?"
   ]
  },
  {
   "cell_type": "code",
   "execution_count": null,
   "metadata": {},
   "outputs": [],
   "source": []
  },
  {
   "cell_type": "markdown",
   "metadata": {},
   "source": [
    "## Teoria dei Grafi ##"
   ]
  },
  {
   "cell_type": "markdown",
   "metadata": {},
   "source": [
    "### Esercizio 4 __\\[15 punti\\]__ ###\n",
    "\n",
    "Si consideri il grafo $G$, con pesi sugli archi, riportato in figura:\n",
    "<img src='maxi-tema1-grafo.png' width=800>"
   ]
  },
  {
   "cell_type": "markdown",
   "metadata": {},
   "source": [
    "__Richieste__:\n",
    "\n",
    "1. __\\[1 pt\\]__ Dire, certificandolo, se il grafo sia planare oppure no"
   ]
  },
  {
   "cell_type": "raw",
   "metadata": {},
   "source": []
  },
  {
   "cell_type": "markdown",
   "metadata": {},
   "source": [
    "2. __\\[3 pt\\]__ Trovare un albero dei cammini minimi dal nodo $s$ a tutti gli altri nodi del grafo"
   ]
  },
  {
   "cell_type": "raw",
   "metadata": {},
   "source": []
  },
  {
   "cell_type": "markdown",
   "metadata": {},
   "source": [
    "3. __\\[2 pt\\]__ Trovare un albero ricoprente di peso minimo"
   ]
  },
  {
   "cell_type": "raw",
   "metadata": {},
   "source": []
  },
  {
   "cell_type": "markdown",
   "metadata": {},
   "source": [
    "4. __\\[3 pt\\]__ Trovare tutti gli alberi ricoprenti di peso minimo, dicendo quanti sono e specificando con precisione come generarli"
   ]
  },
  {
   "cell_type": "raw",
   "metadata": {},
   "source": []
  },
  {
   "cell_type": "markdown",
   "metadata": {},
   "source": [
    "5. __\\[3 pt\\]__ Trovare un massimo flusso dal nodo $s$ al nodo $t$"
   ]
  },
  {
   "cell_type": "raw",
   "metadata": {},
   "source": []
  },
  {
   "cell_type": "markdown",
   "metadata": {},
   "source": [
    "6. __\\[3 pt\\]__ Certificare l'ottimalità del flusso massimo dal nodo $s$ al nodo $t$"
   ]
  },
  {
   "cell_type": "raw",
   "metadata": {},
   "source": []
  },
  {
   "cell_type": "markdown",
   "metadata": {},
   "source": [
    "## Modellizzazione e uso di solver ##"
   ]
  },
  {
   "cell_type": "markdown",
   "metadata": {},
   "source": [
    "### Esercizio 5 __\\[10 punti\\]__ ###\n",
    "\n",
    "La Loamed e un'azienda che produce snack. La disponibilità di materie prime, alla fine di gennaio, è la seguente:\n",
    "550 kg di arachidi, 150 kg di pistacchi, 90 kg di mandorle e 70 kg di nocciole. Ogni scatola contiene 500 grammi di prodotto. La Loamed produce quattro tipi di snack, descritti di seguito:\n",
    "\n",
    "| Prodotto |                                   Composizione                                   | Profitto (euro/scatola) |\n",
    "|:--------:|:--------------------------------------------------------------------------------:|:-----------------------:|\n",
    "|    Mem   |                                   solo arachidi                                  |           1.20          |\n",
    "|    Num   | non più del 50% di arachidi<br>almeno il 10% di mandorle<br>almeno il 15% di pistacchi |           2,50          |\n",
    "|    Pem   |                                  solo pistacchi                                  |           3.50          |\n",
    "|    Qof   |  almeno il 30% di pistacchi<br>almeno il 20% di mandorle<br>almeno il 30% di nocciole  |           3.00          |"
   ]
  },
  {
   "cell_type": "markdown",
   "metadata": {},
   "source": [
    "__Richieste__:\n",
    "1. __\\[3 pt\\]__ Supponendo che tutto quanto prodotto venga venduto, formulare come PL il problema di massimizzare il profitto della Loamed, motivando le scelte compiute in una cella Markdown o Raw"
   ]
  },
  {
   "cell_type": "raw",
   "metadata": {},
   "source": []
  },
  {
   "cell_type": "markdown",
   "metadata": {},
   "source": [
    "2. __\\[5 pt\\]__ Risolvere il problema sfruttando la libreria Pulp"
   ]
  },
  {
   "cell_type": "code",
   "execution_count": null,
   "metadata": {},
   "outputs": [],
   "source": [
    "# Creiamo un problema di PL\n",
    "probLP = p.LpProblem('Loamed', p.LpMaximize)  \n",
    "  \n",
    "# etc..."
   ]
  },
  {
   "cell_type": "markdown",
   "metadata": {},
   "source": [
    "3. __\\[2 pt\\]__ Indicare dove l’eventuale aggiunta di qualche vincolo di interezza possa lievemente aumentare la precisione del modello"
   ]
  },
  {
   "cell_type": "raw",
   "metadata": {},
   "source": []
  },
  {
   "cell_type": "markdown",
   "metadata": {},
   "source": [
    "## Programmazione Lineare ##"
   ]
  },
  {
   "cell_type": "markdown",
   "metadata": {},
   "source": [
    "### Esercizio 6 __\\[15 punti\\]__ ###\n",
    "\n",
    "Si consideri il seguente problema di Programmazione Lineare:\n",
    "\n",
    "max $6x_1 - 5x_2 - 3x_3 - 4x_4$\n",
    "\n",
    "tale che:\n",
    "\n",
    "\n",
    "$4x_1 + 5x_2 - 3x_3 + x4 \\le 5$\n",
    "\n",
    "$2x_1 - 5x_2 + x3 - x4 \\le -5$\n",
    "\n",
    "$2x_1 - x_2 + 2x_3 - x_4 \\le 4$\n",
    "\n",
    "$x_1, x_2, x_3, x_4 \\ge 0$\n",
    "\n",
    "\n",
    "__Richieste__:\n",
    "1. __\\[1 pt\\]__ Impostare il problema ausiliario"
   ]
  },
  {
   "cell_type": "raw",
   "metadata": {},
   "source": []
  },
  {
   "cell_type": "markdown",
   "metadata": {},
   "source": [
    "2. __\\[4 pt\\]__ Risolvere il problema ausiliario per ottenere una soluzione ammissibile di base al problema originario"
   ]
  },
  {
   "cell_type": "raw",
   "metadata": {},
   "source": []
  },
  {
   "cell_type": "markdown",
   "metadata": {},
   "source": [
    "3. __\\[3 pt\\]__ Risolvere il problema originario all'ottimo"
   ]
  },
  {
   "cell_type": "raw",
   "metadata": {},
   "source": []
  },
  {
   "cell_type": "markdown",
   "metadata": {},
   "source": [
    "4. __\\[1 pt\\]__ Quanto si sarebbe disposti a pagare per ogni unità di incremento per l'availability nei tre vincoli per piccole variazioni?"
   ]
  },
  {
   "cell_type": "raw",
   "metadata": {},
   "source": []
  },
  {
   "cell_type": "markdown",
   "metadata": {},
   "source": [
    "5. __\\[2 pt\\]__ Fino a dove si sarebbe disposti a pagare tali prezzi ombra?"
   ]
  },
  {
   "cell_type": "raw",
   "metadata": {},
   "source": []
  },
  {
   "cell_type": "markdown",
   "metadata": {},
   "source": [
    "### Esercizio 7 __\\[6 punti\\]__ ###\n",
    "\n",
    "Si consideri la soluzione $x_3 = x_6 = 0, x_1 = 6, x_2 = 5, x_4 = 10, x_5 = 14$ del seguente problema:\n",
    "\n",
    "max $x_1 + 6x_2 + C_3x_3 + 11x_4 + 5x_5 + C_6x_6$\n",
    "\n",
    "tale che:\n",
    "\n",
    "$x_1 + x_2 + x_3 \\le 12$\n",
    "\n",
    "$x_3 + x_4 + x_6 \\le 10$\n",
    "\n",
    "$x_5 + x_6 \\le 14$\n",
    "\n",
    "$x_1 + 2_x3 + x_5 + 2x_6 \\le 20$\n",
    "\n",
    "$x_2 + x_4 + x_6 \\le 15$\n",
    "\n",
    "$x_1, x_2, x_3, x_4, x_5, x_6 \\ge 0$"
   ]
  },
  {
   "cell_type": "markdown",
   "metadata": {},
   "source": [
    "__Richieste__:\n",
    "1. __\\[1 pt\\]__ Verificare esplicitamente che la soluzione proposta sia ammissibile"
   ]
  },
  {
   "cell_type": "raw",
   "metadata": {},
   "source": []
  },
  {
   "cell_type": "markdown",
   "metadata": {},
   "source": [
    "2. __\\[1 pt \\]__ Scrivere il problema duale"
   ]
  },
  {
   "cell_type": "raw",
   "metadata": {},
   "source": []
  },
  {
   "cell_type": "markdown",
   "metadata": {},
   "source": [
    "3. __\\[1 pt\\]__ Impostare il sistema che esprima le condizioni agli scarti complementari"
   ]
  },
  {
   "cell_type": "raw",
   "metadata": {},
   "source": []
  },
  {
   "cell_type": "markdown",
   "metadata": {},
   "source": [
    "4. __\\[1 pt\\]__ Risolvere il sistema per trovare una soluzione duale complementare alla soluzione primale fornita"
   ]
  },
  {
   "cell_type": "raw",
   "metadata": {},
   "source": []
  },
  {
   "cell_type": "markdown",
   "metadata": {},
   "source": [
    "5. __\\[2 pt\\]__ Per quali valori dei parametri $C_3$ e $C_6$ la soluzione assegnata è ottima? Indicare con chiarezza tutte le verifiche che sei stato chiamato a compiere"
   ]
  },
  {
   "cell_type": "raw",
   "metadata": {},
   "source": []
  },
  {
   "cell_type": "markdown",
   "metadata": {},
   "source": [
    "### Esercizio 8 __\\[3 punti\\]__ ###\n",
    "\n",
    "Si consideri il seguente problema di Programmazione Lineare:\n",
    "\n",
    "max $3x_1 + 4x_2 + 5 x_3$\n",
    "\n",
    "tale che:\n",
    "\n",
    "$2x_1 + 9x_2 \\le 12$\n",
    "\n",
    "$5x_1 + 7x_2 + 8x_3 \\le 24$\n",
    "\n",
    "$8x_1 + 12x_3 \\le 19$\n",
    "\n",
    "$x_1, x_2, x_3 \\ge 0$"
   ]
  },
  {
   "cell_type": "markdown",
   "metadata": {},
   "source": [
    "__Richieste__:\n",
    "1. __\\[3 pt\\]__ Risolvere il problema sfruttando la libreria simplesso_interattivo.py"
   ]
  },
  {
   "cell_type": "code",
   "execution_count": 3,
   "metadata": {},
   "outputs": [],
   "source": [
    "t = s.Tableau(3,3,[3,4,5],'max')\n",
    "# etc."
   ]
  }
 ],
 "metadata": {
  "kernelspec": {
   "display_name": "Python 3",
   "language": "python",
   "name": "python3"
  },
  "language_info": {
   "codemirror_mode": {
    "name": "ipython",
    "version": 3
   },
   "file_extension": ".py",
   "mimetype": "text/x-python",
   "name": "python",
   "nbconvert_exporter": "python",
   "pygments_lexer": "ipython3",
   "version": "3.7.6"
  }
 },
 "nbformat": 4,
 "nbformat_minor": 4
}
