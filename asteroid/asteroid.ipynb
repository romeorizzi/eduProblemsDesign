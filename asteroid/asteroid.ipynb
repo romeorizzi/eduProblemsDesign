{
 "cells": [
  {
   "cell_type": "markdown",
   "metadata": {},
   "source": [
    "Esercizio asteroid\n",
    "===\n",
    "| descrizione del problema  | <a href=\"https://en.wikipedia.org/wiki/Asteroids_(video_game)\">arcade asteroid vintage dell'Atari</a> |\n",
    "| :------------- | -----------: |\n",
    "| Alcune celle di una griglia rettangolare sono occupate da asteroidi che devi distruggere. Per ogni riga e per ogni colonna della griglia disponi di un cannone laser che in un sol colpo disintegra tutte le rocce disposte lungo quella riga o colonna. Per non pagare troppo in bolletta, ripulisci l'intero quadrante spaziale col minimo numero di raggi. | ![Figura: arcade asteroid vintage della Atari](figs/asteroid.png) |\n",
    "\n",
    "\n"
   ]
  },
  {
   "cell_type": "code",
   "execution_count": 14,
   "metadata": {},
   "outputs": [],
   "source": [
    "quadro_istanza_originale=[\n",
    "    [' ','*',' ','*','*',' ',' ',' ',' '],\n",
    "    [' ','*',' ',' ',' ','*',' ','*','*'],\n",
    "    ['*',' ','*',' ',' ','*',' ',' ',' '],\n",
    "    [' ',' ','*',' ',' ',' ','*',' ',' '],\n",
    "    [' ',' ',' ',' ',' ','*',' ','*','*'],\n",
    "    [' ',' ',' ',' ','*',' ',' ',' ','*'],\n",
    "    ['*',' ',' ',' ','*',' ',' ',' ','*']\n",
    "]\n",
    "from IPython.core.display import display, HTML, Markdown\n",
    "from tabulate import tabulate\n",
    "import pandas as pd\n",
    "import copy\n",
    "\n",
    "def visualizza(quadrante_spaziale):\n",
    "    index=pd.Index([str(i) for i in range(len(quadrante_spaziale))])\n",
    "    df=pd.DataFrame(quadrante_spaziale,index=index)\n",
    "    df = df.iloc[0:,0:]\n",
    "    columns=[\"-\"]+[str(i) for i in range(len(quadrante_spaziale[0])+10)]\n",
    "    print(tabulate(df, headers=columns, tablefmt='fancy_grid'))\n",
    "    \n",
    "        \n",
    "def evaluation_format(answ, pt_green,pt_red):\n",
    "    pt_blue=0\n",
    "    if pt_green!=0:\n",
    "        pt_blue=pt_red-pt_green\n",
    "        pt_red=0\n",
    "    return f\"{answ}. Totalizzeresti <span style='color:green'>[{pt_green} safe pt]</span>, \\\n",
    "                                    <span style='color:blue'>[{pt_blue} possible pt]</span>, \\\n",
    "                                    <span style='color:red'>[{pt_red} out of reach pt]</span>.<br>\"\n",
    "\n",
    "def conta_num_met_in(quad):\n",
    "    num_met=0\n",
    "    for i in range(len(quad)):\n",
    "        for j in range(len(quad[0])):\n",
    "            if quad[i][j]=='*':\n",
    "                num_met+=1\n",
    "    return num_met\n",
    "        \n",
    "def spara_r(quad,r):\n",
    "    num_met_destroyed=0\n",
    "    for j in range(len(quad[0])):\n",
    "        if quad[r][j]=='*':\n",
    "            num_met_destroyed+=1\n",
    "            quad[r][j]='.'\n",
    "    return num_met_destroyed\n",
    "\n",
    "def spara_c(quad,c):\n",
    "    num_met_destroyed=0\n",
    "    for i in range(len(quad)):    \n",
    "        if quad[i][c]=='*':\n",
    "            num_met_destroyed+=1\n",
    "            quad[i][c]='.'\n",
    "    return num_met_destroyed\n",
    "        \n",
    "def verifica(raggi, silent=False):\n",
    "    quadro_scratch=copy.deepcopy(quadro_istanza_originale)\n",
    "    num_met_destroyed=0\n",
    "    for tipo_sparo, pos_sparo in raggi:\n",
    "        if tipo_sparo=='r':\n",
    "            if pos_sparo < 0 or pos_sparo >= len(quadro_istanza_originale):\n",
    "                if silent:\n",
    "                    return False\n",
    "                else:\n",
    "                    display(Markdown(evaluation_format(\"No\", 0, 20)+f\"Mi chiedi di sparare sulla riga$~{pos_sparo}$ ma gli indici di riga validi vanno da$~0$ a$~{len(quadro_istanza_originale)}$.\"))\n",
    "                    return\n",
    "            num_met_destroyed+=spara_r(quadro_scratch,pos_sparo)\n",
    "        if tipo_sparo=='c':\n",
    "            if pos_sparo < 0 or pos_sparo >= len(quadro_istanza_originale[0]):\n",
    "                if silent:\n",
    "                    return False\n",
    "                else:\n",
    "                    display(Markdown(evaluation_format(\"No\", 0, 20)+f\"Mi chiedi di sparare sulla colonna$~{pos_sparo}$ ma gli indici di colonna validi vanno da$~0$ a$~{len(quadro_istanza_originale[0])}$.\"))\n",
    "                    return\n",
    "            num_met_destroyed+=spara_c(quadro_scratch,pos_sparo)\n",
    "    if conta_num_met_in(quadro_scratch)==0:\n",
    "        if silent:\n",
    "            return True\n",
    "        else:\n",
    "            display(Markdown(evaluation_format(\"Si\", 1, 20)+\"Non sò dirti (nè sarei titolato a dirti) se hai usato il minimo numero di raggi ma la buona notizia è che hai distrutto tutti gli asteroidi. L'Enterprise NCC-1701 Vulcan è salva. L'equipaggio ringrazia il capitano.\"))\n",
    "    else:\n",
    "        if silent:\n",
    "            return False\n",
    "        else:\n",
    "            display(Markdown(evaluation_format(\"No\", 0, 20)+\"Non hai colpito tutti gli asteroidi. Oh ... Kirk, anvedi quelli che te restano:\"))\n",
    "            visualizza(quadro_scratch)\n",
    "            display(Markdown('Riprova e sarai più fortunato.')) \n",
    "        \n",
    "        \n",
    "def verifica_asteroidi_indipendenti(asteroidi, silent=False):\n",
    "    presenza_in_rig = [False] * (len(quadro_istanza_originale))\n",
    "    presenza_in_col = [False] * (len(quadro_istanza_originale[0]))\n",
    "    for i,j in asteroidi:\n",
    "        if i < 0 or i >= len(quadro_istanza_originale):\n",
    "            if silent:\n",
    "                return False\n",
    "            display(Markdown(evaluation_format(\"No\", 0,20)+f\"Mi parli di una cella$~'('{i},{j}')'$ ma gli indici di riga validi vanno da$~0$ a$~{len(quadro_istanza_originale)}$.\"))\n",
    "            return\n",
    "        if j < 0 or j >= len(quadro_istanza_originale[0]):\n",
    "            if silent:\n",
    "                return False\n",
    "            display(Markdown(evaluation_format(\"No\", 0,20)+f\"Mi parli di una cella$~'('{i},{j}')'$ ma gli indici di colonna validi vanno da$~0$ a$~{len(quadro_istanza_originale[0])}$.\"))\n",
    "            return\n",
    "        if quadro_istanza_originale[i][j]!='*':\n",
    "            if silent:\n",
    "                return False\n",
    "            display(Markdown(evaluation_format(\"No\", 0,20)+f\"Hai inserito tra le celle scelte la cella $'('{i},{j}')'$ che non contiene asteroidi.\")) \n",
    "            return\n",
    "        if presenza_in_rig[i]:\n",
    "            if silent:\n",
    "                return False\n",
    "            display(Markdown(evaluation_format(\"No\", 0,20)+f\"Hai inserito almeno due celle della riga$~{i}$. Non è ammesso prendere più celle di una stessa riga.\")) \n",
    "            return\n",
    "        if presenza_in_col[j]:\n",
    "            if silent:\n",
    "                return False\n",
    "            display(Markdown(evaluation_format(\"No\", 0,20)+f\"Hai inserito almeno due celle della colonna$~{j}$. Non è ammesso prendere più celle di una stessa colonna.\")) \n",
    "            return\n",
    "    if silent:\n",
    "        return True\n",
    "    display(Markdown(evaluation_format(\"Si\", 1,20)+\"L'insieme di asteroidi che hai segnalato è ammissibile.\"))\n",
    "\n",
    "#unit_testing\n",
    "assert (verifica_asteroidi_indipendenti([(-1,0)], silent=True) == False)\n",
    "assert (verifica_asteroidi_indipendenti([(0,-1)], silent=True) == False)\n",
    "assert (verifica_asteroidi_indipendenti([(len(quadro_istanza_originale),0)], silent=True) == False)\n",
    "assert (verifica_asteroidi_indipendenti([(0, len(quadro_istanza_originale[0]))], silent=True) == False)\n",
    "assert (verifica_asteroidi_indipendenti([(0,0)], silent=True) == False)\n",
    "assert (verifica({('r',-1)}, silent=True) == False)\n",
    "assert (verifica({('c',-1)}, silent=True) == False)\n",
    "assert (verifica({('r',len(quadro_istanza_originale))}, silent=True) == False)\n",
    "assert (verifica({('c',len(quadro_istanza_originale[0]))}, silent=True) == False)\n"
   ]
  },
  {
   "cell_type": "code",
   "execution_count": 15,
   "metadata": {
    "scrolled": true
   },
   "outputs": [
    {
     "name": "stdout",
     "output_type": "stream",
     "text": [
      "╒═════╤═════╤═════╤═════╤═════╤═════╤═════╤═════╤═════╤═════╕\n",
      "│   - │ 0   │ 1   │ 2   │ 3   │ 4   │ 5   │ 6   │ 7   │ 8   │\n",
      "╞═════╪═════╪═════╪═════╪═════╪═════╪═════╪═════╪═════╪═════╡\n",
      "│   0 │     │ *   │     │ *   │ *   │     │     │     │     │\n",
      "├─────┼─────┼─────┼─────┼─────┼─────┼─────┼─────┼─────┼─────┤\n",
      "│   1 │     │ *   │     │     │     │ *   │     │ *   │ *   │\n",
      "├─────┼─────┼─────┼─────┼─────┼─────┼─────┼─────┼─────┼─────┤\n",
      "│   2 │ *   │     │ *   │     │     │ *   │     │     │     │\n",
      "├─────┼─────┼─────┼─────┼─────┼─────┼─────┼─────┼─────┼─────┤\n",
      "│   3 │     │     │ *   │     │     │     │ *   │     │     │\n",
      "├─────┼─────┼─────┼─────┼─────┼─────┼─────┼─────┼─────┼─────┤\n",
      "│   4 │     │     │     │     │     │ *   │     │ *   │ *   │\n",
      "├─────┼─────┼─────┼─────┼─────┼─────┼─────┼─────┼─────┼─────┤\n",
      "│   5 │     │     │     │     │ *   │     │     │     │ *   │\n",
      "├─────┼─────┼─────┼─────┼─────┼─────┼─────┼─────┼─────┼─────┤\n",
      "│   6 │ *   │     │     │     │ *   │     │     │     │ *   │\n",
      "╘═════╧═════╧═════╧═════╧═════╧═════╧═════╧═════╧═════╧═════╛\n"
     ]
    }
   ],
   "source": [
    "visualizza(quadro_istanza_originale)"
   ]
  },
  {
   "cell_type": "markdown",
   "metadata": {},
   "source": [
    "<b>[20 punti]</b> distruggi tutti gli asteroidi sparando il minimo numero di raggi.\n",
    "\n",
    "\n",
    "Organizza i tuoi tentativi di soluzione codificando ogni tua proposta di soluzione nella forma di un insieme di spari. Ad esempio:\n",
    "\n",
    "```\n",
    "mio_primo_tentativo = {('r',3),('r',5),('r',6),('c',2),('c',4),('c',5)}\n",
    "```\n",
    "\n",
    "significa che spareresti coi cannoni delle righe$~3$,$5$ e$~6$ e coi cannoni delle colonne$~2$,$4$ e$~5$. Ricordati che gli indici di riga e colonna partono da$~0$.\n",
    "\n",
    "Nota che l'ordine non è importante e quindi la seguente soluzione sarebbe in tutto equivalente a quella sopra:\n",
    "\n",
    "```\n",
    "bim_bum_bam = {('c',4),('r',6),('c',5),('r',3),('r',5),('c',2)}\n",
    "```\n",
    "\n",
    "Puoi verificare l'ammissibilità di una tua proposta di soluzione chiamando la funzione `verifica` di feedback parziale come segue:\n",
    "\n",
    "```\n",
    "verifica(mio_primo_tentativo)\n",
    "```\n",
    "\n",
    "oppure\n",
    "\n",
    "```\n",
    "verifica(bim_bum_bam)\n",
    "```"
   ]
  },
  {
   "cell_type": "code",
   "execution_count": 16,
   "metadata": {
    "scrolled": true
   },
   "outputs": [
    {
     "data": {
      "text/markdown": [
       "No. Totalizzeresti <span style='color:green'>[0 safe pt]</span>,                                     <span style='color:blue'>[0 possible pt]</span>,                                     <span style='color:red'>[20 out of reach pt]</span>.<br>Non hai colpito tutti gli asteroidi. Oh ... Kirk, anvedi quelli che te restano:"
      ],
      "text/plain": [
       "<IPython.core.display.Markdown object>"
      ]
     },
     "metadata": {},
     "output_type": "display_data"
    },
    {
     "name": "stdout",
     "output_type": "stream",
     "text": [
      "╒═════╤═════╤═════╤═════╤═════╤═════╤═════╤═════╤═════╤═════╕\n",
      "│   - │ 0   │ 1   │ 2   │ 3   │ 4   │ 5   │ 6   │ 7   │ 8   │\n",
      "╞═════╪═════╪═════╪═════╪═════╪═════╪═════╪═════╪═════╪═════╡\n",
      "│   0 │     │ *   │     │ *   │ .   │     │     │     │     │\n",
      "├─────┼─────┼─────┼─────┼─────┼─────┼─────┼─────┼─────┼─────┤\n",
      "│   1 │     │ *   │     │     │     │ .   │     │ *   │ *   │\n",
      "├─────┼─────┼─────┼─────┼─────┼─────┼─────┼─────┼─────┼─────┤\n",
      "│   2 │ *   │     │ .   │     │     │ .   │     │     │     │\n",
      "├─────┼─────┼─────┼─────┼─────┼─────┼─────┼─────┼─────┼─────┤\n",
      "│   3 │     │     │ .   │     │     │     │ .   │     │     │\n",
      "├─────┼─────┼─────┼─────┼─────┼─────┼─────┼─────┼─────┼─────┤\n",
      "│   4 │     │     │     │     │     │ .   │     │ *   │ *   │\n",
      "├─────┼─────┼─────┼─────┼─────┼─────┼─────┼─────┼─────┼─────┤\n",
      "│   5 │     │     │     │     │ .   │     │     │     │ .   │\n",
      "├─────┼─────┼─────┼─────┼─────┼─────┼─────┼─────┼─────┼─────┤\n",
      "│   6 │ .   │     │     │     │ .   │     │     │     │ .   │\n",
      "╘═════╧═════╧═════╧═════╧═════╧═════╧═════╧═════╧═════╧═════╛\n"
     ]
    },
    {
     "data": {
      "text/markdown": [
       "Riprova e sarai più fortunato."
      ],
      "text/plain": [
       "<IPython.core.display.Markdown object>"
      ]
     },
     "metadata": {},
     "output_type": "display_data"
    }
   ],
   "source": [
    "#primo tentativo\n",
    "mio_primo_tentativo = {('r',3),('r',5),('r',6),('c',2),('c',4),('c',5)}\n",
    "verifica(mio_primo_tentativo)"
   ]
  },
  {
   "cell_type": "code",
   "execution_count": 17,
   "metadata": {
    "scrolled": true
   },
   "outputs": [
    {
     "data": {
      "text/markdown": [
       "Si. Totalizzeresti <span style='color:green'>[1 safe pt]</span>,                                     <span style='color:blue'>[19 possible pt]</span>,                                     <span style='color:red'>[0 out of reach pt]</span>.<br>Non sò dirti (nè sarei titolato a dirti) se hai usato il minimo numero di raggi ma la buona notizia è che hai distrutto tutti gli asteroidi. L'Enterprise NCC-1701 Vulcan è salva. L'equipaggio ringrazia il capitano."
      ],
      "text/plain": [
       "<IPython.core.display.Markdown object>"
      ]
     },
     "metadata": {},
     "output_type": "display_data"
    }
   ],
   "source": [
    "#un altro tentativo\n",
    "sparo_su_tutte_le_righe=[('r',0),('r',1),('r',2),('r',3),('r',4),('r',5),('r',6)]\n",
    "verifica(sparo_su_tutte_le_righe)"
   ]
  },
  {
   "cell_type": "markdown",
   "metadata": {},
   "source": [
    "<b>[20 punti]</b> Individua il maggior numero possibile di asteroidi indipendenti, ossia indica un insieme di celle $C$ che soddisfi le seguenti proprietà:\n",
    "\n",
    "1. ogni cella in $C$ contiene un asteroide,\n",
    "\n",
    "2. $C$ non contiene due celle che siano collocate sulla stessa riga della griglia,\n",
    "\n",
    "3. $C$ non contiene due celle che siano collocate nella stessa colonna della griglia.\n",
    "\n",
    "Perchè a fine esame ti vengano attribuiti tutti i punti in palio su questa domanda (ossia anche quelli blu) l'insieme $C$ dovrà avere la massima cardinalità possibile.\n",
    "\n",
    "Codifica la tua proposta per$~C$ come un insieme od una lista di celle. Ad esempio:\n",
    "\n",
    "```\n",
    "my_C2 = {(1,1),(2,2)}\n",
    "my_C3 = [(1,1),(2,2),(6,8)]\n",
    "```\n",
    "\n",
    "Nota che per specificare la cella nella riga$~3$ e nella colonna$~0$ utilizzi la scrittura `(3,0)`.\n",
    "\n",
    "Puoi ottenere feedback quantomeno sull'ammissibilità di una tua proposta di soluzione chiamando la funzione `verifica_asteroidi_indipendenti` come segue:\n",
    "\n",
    "```\n",
    "verifica_asteroidi_indipendenti(my_C3)\n",
    "```\n",
    "\n",
    "Se hai ben capito cosa sia una buona congettura ed un buon teorema (quello che più mi preme tu abbia portato a casa dal corso) allora nella tua testa potrai mettere in cassaforte anche i punti blu (di entrambe le domande o di nessuna) prima ancora di vedere gli esiti finali dell'esame e senza bisogno di chiedere al proffete (che fà sempre confusione specie all'esame dove è più in ansia di voi)."
   ]
  },
  {
   "cell_type": "code",
   "execution_count": 18,
   "metadata": {},
   "outputs": [
    {
     "data": {
      "text/markdown": [
       "Si. Totalizzeresti <span style='color:green'>[1 safe pt]</span>,                                     <span style='color:blue'>[19 possible pt]</span>,                                     <span style='color:red'>[0 out of reach pt]</span>.<br>L'insieme di asteroidi che hai segnalato è ammissibile."
      ],
      "text/plain": [
       "<IPython.core.display.Markdown object>"
      ]
     },
     "metadata": {},
     "output_type": "display_data"
    }
   ],
   "source": [
    "#prova1\n",
    "gruppo=[(2,0),(1,1),(3,2),(0,3),(6,4),(4,5),(5,8)]\n",
    "verifica_asteroidi_indipendenti(gruppo)"
   ]
  },
  {
   "cell_type": "code",
   "execution_count": 19,
   "metadata": {},
   "outputs": [
    {
     "data": {
      "text/markdown": [
       "Si. Totalizzeresti <span style='color:green'>[1 safe pt]</span>,                                     <span style='color:blue'>[19 possible pt]</span>,                                     <span style='color:red'>[0 out of reach pt]</span>.<br>L'insieme di asteroidi che hai segnalato è ammissibile."
      ],
      "text/plain": [
       "<IPython.core.display.Markdown object>"
      ]
     },
     "metadata": {},
     "output_type": "display_data"
    }
   ],
   "source": [
    "#prova2\n",
    "verifica_asteroidi_indipendenti([(2,0),(1,1),(3,2),(0,3),(6,4),(4,5)])"
   ]
  },
  {
   "cell_type": "code",
   "execution_count": 20,
   "metadata": {},
   "outputs": [
    {
     "data": {
      "text/markdown": [
       "No. Totalizzeresti <span style='color:green'>[0 safe pt]</span>,                                     <span style='color:blue'>[0 possible pt]</span>,                                     <span style='color:red'>[20 out of reach pt]</span>.<br>Hai inserito tra le celle scelte la cella $'('0,0')'$ che non contiene asteroidi."
      ],
      "text/plain": [
       "<IPython.core.display.Markdown object>"
      ]
     },
     "metadata": {},
     "output_type": "display_data"
    }
   ],
   "source": [
    "#prova3\n",
    "gruppo={(2,0),(1,1),(3,2),(0,3),(6,4),(4,5),(0,0)}\n",
    "verifica_asteroidi_indipendenti(gruppo)"
   ]
  },
  {
   "cell_type": "code",
   "execution_count": 21,
   "metadata": {},
   "outputs": [
    {
     "data": {
      "text/markdown": [
       "No. Totalizzeresti <span style='color:green'>[0 safe pt]</span>,                                     <span style='color:blue'>[0 possible pt]</span>,                                     <span style='color:red'>[20 out of reach pt]</span>.<br>Hai inserito tra le celle scelte la cella $'('1,6')'$ che non contiene asteroidi."
      ],
      "text/plain": [
       "<IPython.core.display.Markdown object>"
      ]
     },
     "metadata": {},
     "output_type": "display_data"
    }
   ],
   "source": [
    "#prova4\n",
    "verifica_asteroidi_indipendenti([(2,0),(1,1),(1,6),(0,3),(6,4),(4,5),(6,7)])"
   ]
  },
  {
   "cell_type": "code",
   "execution_count": null,
   "metadata": {},
   "outputs": [],
   "source": []
  },
  {
   "cell_type": "code",
   "execution_count": null,
   "metadata": {},
   "outputs": [],
   "source": []
  }
 ],
 "metadata": {
  "celltoolbar": "Edit Metadata",
  "hide_input": false,
  "kernelspec": {
   "display_name": "Python 3",
   "language": "python",
   "name": "python3"
  },
  "language_info": {
   "codemirror_mode": {
    "name": "ipython",
    "version": 3
   },
   "file_extension": ".py",
   "mimetype": "text/x-python",
   "name": "python",
   "nbconvert_exporter": "python",
   "pygments_lexer": "ipython3",
   "version": "3.7.7"
  }
 },
 "nbformat": 4,
 "nbformat_minor": 4
}
