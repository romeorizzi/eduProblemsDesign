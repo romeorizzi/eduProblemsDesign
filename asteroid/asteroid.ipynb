{
 "cells": [
  {
   "cell_type": "markdown",
   "metadata": {},
   "source": [
    "Esercizio asteroid\n",
    "===\n",
    "| descrizione del problema  | <a href=\"https://en.wikipedia.org/wiki/Asteroids_(video_game)\">arcade asteroid vintage dell'Atari</a> |\n",
    "| :------------- | -----------: |\n",
    "| Alcune celle di una griglia rettangolare sono occupate da meteore che devi distruggere. Per ogni riga e per ogni colonna della griglia disponi di un cannone laser che in un sol colpo disintegra tutte le meteore disposte lungo quella riga o colonna. Per non pagare troppo in bolletta, distruggi tutte le meteore sparando il minimo numero di raggi. | ![Figura: arcade asteroid vintage della Atari](figs/asteroid.png) |\n",
    "\n",
    "\n"
   ]
  },
  {
   "cell_type": "code",
   "execution_count": 5,
   "metadata": {},
   "outputs": [],
   "source": [
    "quadro_istanza_originale=[\n",
    "    [' ','*',' ','*','*',' ',' ',' ',' '],\n",
    "    [' ','*',' ',' ',' ','*',' ','*','*'],\n",
    "    ['*',' ','*',' ',' ','*',' ',' ',' '],\n",
    "    [' ',' ','*',' ',' ',' ','*',' ',' '],\n",
    "    [' ',' ',' ',' ',' ','*',' ','*','*'],\n",
    "    [' ',' ',' ',' ','*',' ',' ',' ','*'],\n",
    "    ['*',' ',' ',' ','*',' ',' ',' ','*']\n",
    "]\n",
    "\n",
    "from IPython.core.display import display, HTML, Markdown\n",
    "from tabulate import tabulate\n",
    "import pandas as pd\n",
    "import copy\n",
    "\n",
    "def visualizza(quadrante_spaziale):\n",
    "    index=pd.Index([str(i) for i in range(len(quadrante_spaziale))])\n",
    "    df=pd.DataFrame(quadrante_spaziale,index=index)\n",
    "    df = df.iloc[0:,0:]\n",
    "    columns=[\"-\"]+[str(i) for i in range(len(quadrante_spaziale[0])+10)]\n",
    "    print(tabulate(df, headers=columns, tablefmt='fancy_grid'))\n",
    "    \n",
    "        \n",
    "def evaluation_format(answ, pt_green,pt_red):\n",
    "    pt_blue=0\n",
    "    if pt_green!=0:\n",
    "        pt_blue=pt_red-pt_green\n",
    "        pt_red=0\n",
    "    return f\"{answ}. Totalizzeresti <span style='color:green'>[{pt_green} safe pt]</span>, \\\n",
    "                                    <span style='color:blue'>[{pt_blue} possible pt]</span>, \\\n",
    "                                    <span style='color:red'>[{pt_red} out of reach pt]</span>.<br>\"\n",
    "\n",
    "def conta_num_met_in(q):\n",
    "    num_met=0\n",
    "    for i in range(len(q)):\n",
    "        for j in range(len(q[0])):\n",
    "            if q[i][j]=='*':\n",
    "                num_met+=1\n",
    "    return num_met\n",
    "        \n",
    "def spara_r(q,r):\n",
    "    num_met_destroyed=0\n",
    "    for j in range(len(q[0])):\n",
    "        if q[r][j]=='*':\n",
    "            num_met_destroyed+=1\n",
    "            q[r][j]='.'\n",
    "    return num_met_destroyed\n",
    "\n",
    "def spara_c(q,c):\n",
    "    num_met_destroyed=0\n",
    "    for i in range(len(q)):\n",
    "        if q[i][c]=='*':\n",
    "            num_met_destroyed+=1\n",
    "            q[i][c]='.'\n",
    "    return num_met_destroyed\n",
    "        \n",
    "def verifica(raggi):\n",
    "    quadro_scratch=copy.deepcopy(quadro_istanza_originale)\n",
    "#    quadro_scratch=[quadro_istanza_originale[_].copy() for _ in quadro_istanza_originale]\n",
    "    num_met_destroyed=0\n",
    "    for sparo in raggi:\n",
    "        if sparo[0]=='c':\n",
    "            num_met_destroyed+=spara_c(quadro_scratch,sparo[1])\n",
    "        if sparo[0]=='r':\n",
    "            num_met_destroyed+=spara_r(quadro_scratch,sparo[1])\n",
    "    if conta_num_met_in(quadro_scratch)==0:\n",
    "        display(Markdown(evaluation_format(\"Si\", 1, 20)+\"Non sò dirti (nè sarei titolato a dirti) se hai usato il minimo numero di raggi ma la buona notizia è che hai distrutto tutti gli asteroidi. L'Enterprise NCC-1701 Vulcan è salva. L'equipaggio ringrazia il capitano.\"))\n",
    "    else:\n",
    "        display(Markdown(evaluation_format(\"No\", 0, 20)+\"Non hai colpito tutti gli asteroidi. Oh ... Kirk, anvedi quelli che te restano:\"))\n",
    "        visualizza(quadro_istanza_originale)\n",
    "        print('Riprova e sarai più fortunato.')        "
   ]
  },
  {
   "cell_type": "code",
   "execution_count": 6,
   "metadata": {
    "scrolled": true
   },
   "outputs": [
    {
     "name": "stdout",
     "output_type": "stream",
     "text": [
      "╒═════╤═════╤═════╤═════╤═════╤═════╤═════╤═════╤═════╤═════╕\n",
      "│   - │ 0   │ 1   │ 2   │ 3   │ 4   │ 5   │ 6   │ 7   │ 8   │\n",
      "╞═════╪═════╪═════╪═════╪═════╪═════╪═════╪═════╪═════╪═════╡\n",
      "│   0 │     │ *   │     │ *   │ *   │     │     │     │     │\n",
      "├─────┼─────┼─────┼─────┼─────┼─────┼─────┼─────┼─────┼─────┤\n",
      "│   1 │     │ *   │     │     │     │ *   │     │ *   │ *   │\n",
      "├─────┼─────┼─────┼─────┼─────┼─────┼─────┼─────┼─────┼─────┤\n",
      "│   2 │ *   │     │ *   │     │     │ *   │     │     │     │\n",
      "├─────┼─────┼─────┼─────┼─────┼─────┼─────┼─────┼─────┼─────┤\n",
      "│   3 │     │     │ *   │     │     │     │ *   │     │     │\n",
      "├─────┼─────┼─────┼─────┼─────┼─────┼─────┼─────┼─────┼─────┤\n",
      "│   4 │     │     │     │     │     │ *   │     │ *   │ *   │\n",
      "├─────┼─────┼─────┼─────┼─────┼─────┼─────┼─────┼─────┼─────┤\n",
      "│   5 │     │     │     │     │ *   │     │     │     │ *   │\n",
      "├─────┼─────┼─────┼─────┼─────┼─────┼─────┼─────┼─────┼─────┤\n",
      "│   6 │ *   │     │     │     │ *   │     │     │     │ *   │\n",
      "╘═════╧═════╧═════╧═════╧═════╧═════╧═════╧═════╧═════╧═════╛\n"
     ]
    }
   ],
   "source": [
    "visualizza(quadro_istanza_originale)"
   ]
  },
  {
   "cell_type": "markdown",
   "metadata": {},
   "source": [
    "Organizza i tuoi tentativi di soluzione codificando ogni tua proposta di soluzione nella forma di un insieme di spari. Ad esempio:\n",
    "\n",
    "```\n",
    "mio_primo_tentativo = {('r',3),('r',5),('r',6),('c',2),('c',4),('c',5)}\n",
    "```\n",
    "\n",
    "significa che spareresti coi cannoni delle righe$~3$,$5$ e$~6$ e coi cannoni delle colonne$~2$,$4$ e$~5$.\n",
    "\n",
    "Nota che l'ordine non è quì importante e quindi la seguente soluzione sarebbe in tutto equivalente a quella sopra:\n",
    "\n",
    "```\n",
    "bim_bum_bam = {('c',4),('r',6),('c',5),('r',3),('r',5),('c',2)}\n",
    "```\n",
    "\n",
    "Puoi verificare l'ammissibilità di una tua proposta di soluzione chiamando la funzione `verifica` di feedback parziale come segue:\n",
    "\n",
    "```\n",
    "verifica(mio_primo_tentativo)\n",
    "```\n",
    "\n",
    "oppure\n",
    "\n",
    "```\n",
    "verifica(bim_bum_bam)\n",
    "```"
   ]
  },
  {
   "cell_type": "code",
   "execution_count": 9,
   "metadata": {},
   "outputs": [
    {
     "data": {
      "text/markdown": [
       "No. Totalizzeresti <span style='color:green'>[0 safe pt]</span>,                                     <span style='color:blue'>[0 possible pt]</span>,                                     <span style='color:red'>[20 out of reach pt]</span>.<br>Non hai colpito tutti gli asteroidi. Oh ... Kirk, anvedi quelli che te restano:"
      ],
      "text/plain": [
       "<IPython.core.display.Markdown object>"
      ]
     },
     "metadata": {},
     "output_type": "display_data"
    },
    {
     "name": "stdout",
     "output_type": "stream",
     "text": [
      "╒═════╤═════╤═════╤═════╤═════╤═════╤═════╤═════╤═════╤═════╕\n",
      "│   - │ 0   │ 1   │ 2   │ 3   │ 4   │ 5   │ 6   │ 7   │ 8   │\n",
      "╞═════╪═════╪═════╪═════╪═════╪═════╪═════╪═════╪═════╪═════╡\n",
      "│   0 │     │ *   │     │ *   │ *   │     │     │     │     │\n",
      "├─────┼─────┼─────┼─────┼─────┼─────┼─────┼─────┼─────┼─────┤\n",
      "│   1 │     │ *   │     │     │     │ *   │     │ *   │ *   │\n",
      "├─────┼─────┼─────┼─────┼─────┼─────┼─────┼─────┼─────┼─────┤\n",
      "│   2 │ *   │     │ *   │     │     │ *   │     │     │     │\n",
      "├─────┼─────┼─────┼─────┼─────┼─────┼─────┼─────┼─────┼─────┤\n",
      "│   3 │     │     │ *   │     │     │     │ *   │     │     │\n",
      "├─────┼─────┼─────┼─────┼─────┼─────┼─────┼─────┼─────┼─────┤\n",
      "│   4 │     │     │     │     │     │ *   │     │ *   │ *   │\n",
      "├─────┼─────┼─────┼─────┼─────┼─────┼─────┼─────┼─────┼─────┤\n",
      "│   5 │     │     │     │     │ *   │     │     │     │ *   │\n",
      "├─────┼─────┼─────┼─────┼─────┼─────┼─────┼─────┼─────┼─────┤\n",
      "│   6 │ *   │     │     │     │ *   │     │     │     │ *   │\n",
      "╘═════╧═════╧═════╧═════╧═════╧═════╧═════╧═════╧═════╧═════╛\n",
      "Riprova e sarai più fortunato.\n"
     ]
    }
   ],
   "source": [
    "#primo tentativo\n",
    "mio_primo_tentativo = {('r',3),('r',5),('r',6),('c',2),('c',4),('c',5)}\n",
    "verifica(mio_primo_tentativo)\n"
   ]
  },
  {
   "cell_type": "code",
   "execution_count": 8,
   "metadata": {
    "scrolled": true
   },
   "outputs": [
    {
     "data": {
      "text/markdown": [
       "Si. Totalizzeresti <span style='color:green'>[1 safe pt]</span>,                                     <span style='color:blue'>[19 possible pt]</span>,                                     <span style='color:red'>[0 out of reach pt]</span>.<br>Non sò dirti (nè sarei titolato a dirti) se hai usato il minimo numero di raggi ma la buona notizia è che hai distrutto tutti gli asteroidi. L'Enterprise NCC-1701 Vulcan è salva. L'equipaggio ringrazia il capitano."
      ],
      "text/plain": [
       "<IPython.core.display.Markdown object>"
      ]
     },
     "metadata": {},
     "output_type": "display_data"
    }
   ],
   "source": [
    "#un altro tentativo\n",
    "sparo_su_tutte_le_righe=[('r',0),('r',1),('r',2),('r',3),('r',4),('r',5),('r',6)]\n",
    "verifica(sparo_su_tutte_le_righe)"
   ]
  },
  {
   "cell_type": "code",
   "execution_count": null,
   "metadata": {},
   "outputs": [],
   "source": []
  },
  {
   "cell_type": "code",
   "execution_count": null,
   "metadata": {},
   "outputs": [],
   "source": []
  }
 ],
 "metadata": {
  "celltoolbar": "Edit Metadata",
  "hide_input": false,
  "kernelspec": {
   "display_name": "Python 3",
   "language": "python",
   "name": "python3"
  },
  "language_info": {
   "codemirror_mode": {
    "name": "ipython",
    "version": 3
   },
   "file_extension": ".py",
   "mimetype": "text/x-python",
   "name": "python",
   "nbconvert_exporter": "python",
   "pygments_lexer": "ipython3",
   "version": "3.7.7"
  }
 },
 "nbformat": 4,
 "nbformat_minor": 4
}
